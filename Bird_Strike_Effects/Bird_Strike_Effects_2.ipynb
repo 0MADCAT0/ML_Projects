{
 "cells": [
  {
   "cell_type": "markdown",
   "id": "7d6a2df5",
   "metadata": {},
   "source": [
    "#  Begining of Third Phase \n",
    "\n",
    "* I will do some visual analysis to understand the data well"
   ]
  },
  {
   "cell_type": "markdown",
   "id": "9c5b47cd",
   "metadata": {},
   "source": [
    "# Import Libraries"
   ]
  },
  {
   "cell_type": "code",
   "execution_count": 1,
   "id": "4bd772ee",
   "metadata": {
    "ExecuteTime": {
     "end_time": "2022-09-01T14:54:51.987054Z",
     "start_time": "2022-09-01T14:54:48.519704Z"
    }
   },
   "outputs": [
    {
     "data": {
      "text/html": [
       "        <script type=\"text/javascript\">\n",
       "        window.PlotlyConfig = {MathJaxConfig: 'local'};\n",
       "        if (window.MathJax && window.MathJax.Hub && window.MathJax.Hub.Config) {window.MathJax.Hub.Config({SVG: {font: \"STIX-Web\"}});}\n",
       "        if (typeof require !== 'undefined') {\n",
       "        require.undef(\"plotly\");\n",
       "        requirejs.config({\n",
       "            paths: {\n",
       "                'plotly': ['https://cdn.plot.ly/plotly-2.12.1.min']\n",
       "            }\n",
       "        });\n",
       "        require(['plotly'], function(Plotly) {\n",
       "            window._Plotly = Plotly;\n",
       "        });\n",
       "        }\n",
       "        </script>\n",
       "        "
      ]
     },
     "metadata": {},
     "output_type": "display_data"
    },
    {
     "data": {
      "text/html": [
       "        <script type=\"text/javascript\">\n",
       "        window.PlotlyConfig = {MathJaxConfig: 'local'};\n",
       "        if (window.MathJax && window.MathJax.Hub && window.MathJax.Hub.Config) {window.MathJax.Hub.Config({SVG: {font: \"STIX-Web\"}});}\n",
       "        if (typeof require !== 'undefined') {\n",
       "        require.undef(\"plotly\");\n",
       "        requirejs.config({\n",
       "            paths: {\n",
       "                'plotly': ['https://cdn.plot.ly/plotly-2.12.1.min']\n",
       "            }\n",
       "        });\n",
       "        require(['plotly'], function(Plotly) {\n",
       "            window._Plotly = Plotly;\n",
       "        });\n",
       "        }\n",
       "        </script>\n",
       "        "
      ]
     },
     "metadata": {},
     "output_type": "display_data"
    }
   ],
   "source": [
    "# libraries for EDA\n",
    "import numpy as np\n",
    "import pandas as pd\n",
    "import matplotlib.pyplot as plt\n",
    "import seaborn as sns\n",
    "import plotly.express as px\n",
    "import cufflinks as cf\n",
    "#Enabling the offline mode for interactive plotting locally\n",
    "from plotly.offline import download_plotlyjs, init_notebook_mode, plot, iplot\n",
    "\n",
    "init_notebook_mode(connected=True)\n",
    "cf.go_offline()\n",
    "\n",
    "#To display the plots\n",
    "%matplotlib inline\n",
    "from ipywidgets import interact\n",
    "import plotly.io as pio\n",
    "\n",
    "pio.renderers.default = \"notebook\""
   ]
  },
  {
   "cell_type": "markdown",
   "id": "a60f9133",
   "metadata": {},
   "source": [
    "# Ingest Data "
   ]
  },
  {
   "cell_type": "code",
   "execution_count": 2,
   "id": "c3f355c1",
   "metadata": {
    "ExecuteTime": {
     "end_time": "2022-09-01T14:54:52.080274Z",
     "start_time": "2022-09-01T14:54:51.989048Z"
    }
   },
   "outputs": [
    {
     "data": {
      "text/html": [
       "<div>\n",
       "<style scoped>\n",
       "    .dataframe tbody tr th:only-of-type {\n",
       "        vertical-align: middle;\n",
       "    }\n",
       "\n",
       "    .dataframe tbody tr th {\n",
       "        vertical-align: top;\n",
       "    }\n",
       "\n",
       "    .dataframe thead th {\n",
       "        text-align: right;\n",
       "    }\n",
       "</style>\n",
       "<table border=\"1\" class=\"dataframe\">\n",
       "  <thead>\n",
       "    <tr style=\"text-align: right;\">\n",
       "      <th></th>\n",
       "      <th>opid</th>\n",
       "      <th>operator</th>\n",
       "      <th>atype</th>\n",
       "      <th>remarks</th>\n",
       "      <th>phase_of_flt</th>\n",
       "      <th>ac_mass</th>\n",
       "      <th>num_engs</th>\n",
       "      <th>date</th>\n",
       "      <th>time_of_day</th>\n",
       "      <th>state</th>\n",
       "      <th>height</th>\n",
       "      <th>speed</th>\n",
       "      <th>effect</th>\n",
       "      <th>sky</th>\n",
       "      <th>species</th>\n",
       "      <th>birds_seen</th>\n",
       "      <th>birds_struck</th>\n",
       "    </tr>\n",
       "  </thead>\n",
       "  <tbody>\n",
       "    <tr>\n",
       "      <th>0</th>\n",
       "      <td>AAL</td>\n",
       "      <td>AMERICAN AIRLINES</td>\n",
       "      <td>MD-80</td>\n",
       "      <td>NO DAMAGE</td>\n",
       "      <td>Descent</td>\n",
       "      <td>4.0</td>\n",
       "      <td>2.0</td>\n",
       "      <td>9/30/1990 0:00:00</td>\n",
       "      <td>Night</td>\n",
       "      <td>IL</td>\n",
       "      <td>7000.0</td>\n",
       "      <td>250.0</td>\n",
       "      <td>NaN</td>\n",
       "      <td>No Cloud</td>\n",
       "      <td>UNKNOWN BIRD - MEDIUM</td>\n",
       "      <td>NaN</td>\n",
       "      <td>1</td>\n",
       "    </tr>\n",
       "    <tr>\n",
       "      <th>1</th>\n",
       "      <td>USA</td>\n",
       "      <td>US AIRWAYS</td>\n",
       "      <td>FK-28-4000</td>\n",
       "      <td>2 BIRDS, NO DAMAGE.</td>\n",
       "      <td>Climb</td>\n",
       "      <td>4.0</td>\n",
       "      <td>2.0</td>\n",
       "      <td>11/29/1993 0:00:00</td>\n",
       "      <td>Day</td>\n",
       "      <td>MD</td>\n",
       "      <td>10.0</td>\n",
       "      <td>140.0</td>\n",
       "      <td>None</td>\n",
       "      <td>No Cloud</td>\n",
       "      <td>UNKNOWN BIRD - MEDIUM</td>\n",
       "      <td>2-10</td>\n",
       "      <td>2-10</td>\n",
       "    </tr>\n",
       "    <tr>\n",
       "      <th>2</th>\n",
       "      <td>AAL</td>\n",
       "      <td>AMERICAN AIRLINES</td>\n",
       "      <td>B-727-200</td>\n",
       "      <td>NaN</td>\n",
       "      <td>Approach</td>\n",
       "      <td>4.0</td>\n",
       "      <td>3.0</td>\n",
       "      <td>8/13/1993 0:00:00</td>\n",
       "      <td>Day</td>\n",
       "      <td>TN</td>\n",
       "      <td>400.0</td>\n",
       "      <td>140.0</td>\n",
       "      <td>None</td>\n",
       "      <td>Some Cloud</td>\n",
       "      <td>UNKNOWN BIRD - SMALL</td>\n",
       "      <td>2-10</td>\n",
       "      <td>1</td>\n",
       "    </tr>\n",
       "    <tr>\n",
       "      <th>3</th>\n",
       "      <td>AAL</td>\n",
       "      <td>AMERICAN AIRLINES</td>\n",
       "      <td>MD-82</td>\n",
       "      <td>NaN</td>\n",
       "      <td>Climb</td>\n",
       "      <td>4.0</td>\n",
       "      <td>2.0</td>\n",
       "      <td>10/7/1993 0:00:00</td>\n",
       "      <td>Day</td>\n",
       "      <td>VA</td>\n",
       "      <td>100.0</td>\n",
       "      <td>200.0</td>\n",
       "      <td>None</td>\n",
       "      <td>Overcast</td>\n",
       "      <td>UNKNOWN BIRD - SMALL</td>\n",
       "      <td>NaN</td>\n",
       "      <td>1</td>\n",
       "    </tr>\n",
       "    <tr>\n",
       "      <th>4</th>\n",
       "      <td>AAL</td>\n",
       "      <td>AMERICAN AIRLINES</td>\n",
       "      <td>MD-82</td>\n",
       "      <td>NO DAMAGE</td>\n",
       "      <td>Climb</td>\n",
       "      <td>4.0</td>\n",
       "      <td>2.0</td>\n",
       "      <td>9/25/1993 0:00:00</td>\n",
       "      <td>Day</td>\n",
       "      <td>SC</td>\n",
       "      <td>50.0</td>\n",
       "      <td>170.0</td>\n",
       "      <td>None</td>\n",
       "      <td>Some Cloud</td>\n",
       "      <td>UNKNOWN BIRD - SMALL</td>\n",
       "      <td>2-10</td>\n",
       "      <td>1</td>\n",
       "    </tr>\n",
       "  </tbody>\n",
       "</table>\n",
       "</div>"
      ],
      "text/plain": [
       "  opid           operator       atype              remarks phase_of_flt  \\\n",
       "0  AAL  AMERICAN AIRLINES       MD-80            NO DAMAGE      Descent   \n",
       "1  USA         US AIRWAYS  FK-28-4000  2 BIRDS, NO DAMAGE.        Climb   \n",
       "2  AAL  AMERICAN AIRLINES   B-727-200                  NaN     Approach   \n",
       "3  AAL  AMERICAN AIRLINES       MD-82                  NaN        Climb   \n",
       "4  AAL  AMERICAN AIRLINES       MD-82            NO DAMAGE        Climb   \n",
       "\n",
       "   ac_mass  num_engs                date time_of_day state  height  speed  \\\n",
       "0      4.0       2.0   9/30/1990 0:00:00       Night    IL  7000.0  250.0   \n",
       "1      4.0       2.0  11/29/1993 0:00:00         Day    MD    10.0  140.0   \n",
       "2      4.0       3.0   8/13/1993 0:00:00         Day    TN   400.0  140.0   \n",
       "3      4.0       2.0   10/7/1993 0:00:00         Day    VA   100.0  200.0   \n",
       "4      4.0       2.0   9/25/1993 0:00:00         Day    SC    50.0  170.0   \n",
       "\n",
       "  effect         sky                species birds_seen birds_struck  \n",
       "0    NaN    No Cloud  UNKNOWN BIRD - MEDIUM        NaN            1  \n",
       "1   None    No Cloud  UNKNOWN BIRD - MEDIUM       2-10         2-10  \n",
       "2   None  Some Cloud   UNKNOWN BIRD - SMALL       2-10            1  \n",
       "3   None    Overcast   UNKNOWN BIRD - SMALL        NaN            1  \n",
       "4   None  Some Cloud   UNKNOWN BIRD - SMALL       2-10            1  "
      ]
     },
     "execution_count": 2,
     "metadata": {},
     "output_type": "execute_result"
    }
   ],
   "source": [
    "birds_df = pd.read_csv(\"birds.csv\")\n",
    "birds_df.head()"
   ]
  },
  {
   "cell_type": "code",
   "execution_count": 3,
   "id": "66dc8d1e",
   "metadata": {
    "ExecuteTime": {
     "end_time": "2022-09-01T14:54:52.127748Z",
     "start_time": "2022-09-01T14:54:52.083265Z"
    }
   },
   "outputs": [
    {
     "name": "stdout",
     "output_type": "stream",
     "text": [
      "<class 'pandas.core.frame.DataFrame'>\n",
      "RangeIndex: 19302 entries, 0 to 19301\n",
      "Data columns (total 17 columns):\n",
      " #   Column        Non-Null Count  Dtype  \n",
      "---  ------        --------------  -----  \n",
      " 0   opid          19302 non-null  object \n",
      " 1   operator      19302 non-null  object \n",
      " 2   atype         19302 non-null  object \n",
      " 3   remarks       16516 non-null  object \n",
      " 4   phase_of_flt  17519 non-null  object \n",
      " 5   ac_mass       18018 non-null  float64\n",
      " 6   num_engs      17995 non-null  float64\n",
      " 7   date          19302 non-null  object \n",
      " 8   time_of_day   17225 non-null  object \n",
      " 9   state         18431 non-null  object \n",
      " 10  height        16109 non-null  float64\n",
      " 11  speed         12294 non-null  float64\n",
      " 12  effect        13584 non-null  object \n",
      " 13  sky           15723 non-null  object \n",
      " 14  species       19302 non-null  object \n",
      " 15  birds_seen    4764 non-null   object \n",
      " 16  birds_struck  19263 non-null  object \n",
      "dtypes: float64(4), object(13)\n",
      "memory usage: 2.5+ MB\n"
     ]
    }
   ],
   "source": [
    "birds_df.info()"
   ]
  },
  {
   "cell_type": "code",
   "execution_count": 4,
   "id": "6452ff7f",
   "metadata": {
    "ExecuteTime": {
     "end_time": "2022-09-01T14:54:52.173628Z",
     "start_time": "2022-09-01T14:54:52.128747Z"
    }
   },
   "outputs": [
    {
     "data": {
      "text/html": [
       "<div>\n",
       "<style scoped>\n",
       "    .dataframe tbody tr th:only-of-type {\n",
       "        vertical-align: middle;\n",
       "    }\n",
       "\n",
       "    .dataframe tbody tr th {\n",
       "        vertical-align: top;\n",
       "    }\n",
       "\n",
       "    .dataframe thead th {\n",
       "        text-align: right;\n",
       "    }\n",
       "</style>\n",
       "<table border=\"1\" class=\"dataframe\">\n",
       "  <thead>\n",
       "    <tr style=\"text-align: right;\">\n",
       "      <th></th>\n",
       "      <th>atype</th>\n",
       "      <th>phase_of_flt</th>\n",
       "      <th>state</th>\n",
       "      <th>height</th>\n",
       "      <th>speed</th>\n",
       "      <th>effect</th>\n",
       "      <th>sky</th>\n",
       "      <th>species</th>\n",
       "      <th>birds_struck</th>\n",
       "      <th>month_of_the_year</th>\n",
       "      <th>season</th>\n",
       "    </tr>\n",
       "  </thead>\n",
       "  <tbody>\n",
       "    <tr>\n",
       "      <th>0</th>\n",
       "      <td>FK-28-4000</td>\n",
       "      <td>Climb</td>\n",
       "      <td>South Atlantic</td>\n",
       "      <td>10.0</td>\n",
       "      <td>140.0</td>\n",
       "      <td>None</td>\n",
       "      <td>No Cloud</td>\n",
       "      <td>UNKNOWN BIRD - MEDIUM</td>\n",
       "      <td>2-10</td>\n",
       "      <td>November</td>\n",
       "      <td>Fall</td>\n",
       "    </tr>\n",
       "    <tr>\n",
       "      <th>1</th>\n",
       "      <td>B-727-200</td>\n",
       "      <td>Approach</td>\n",
       "      <td>East South Central</td>\n",
       "      <td>400.0</td>\n",
       "      <td>140.0</td>\n",
       "      <td>None</td>\n",
       "      <td>Some Cloud</td>\n",
       "      <td>UNKNOWN BIRD - SMALL</td>\n",
       "      <td>1</td>\n",
       "      <td>August</td>\n",
       "      <td>Summer</td>\n",
       "    </tr>\n",
       "    <tr>\n",
       "      <th>2</th>\n",
       "      <td>MD-82</td>\n",
       "      <td>Climb</td>\n",
       "      <td>South Atlantic</td>\n",
       "      <td>100.0</td>\n",
       "      <td>200.0</td>\n",
       "      <td>None</td>\n",
       "      <td>Overcast</td>\n",
       "      <td>UNKNOWN BIRD - SMALL</td>\n",
       "      <td>1</td>\n",
       "      <td>October</td>\n",
       "      <td>Fall</td>\n",
       "    </tr>\n",
       "    <tr>\n",
       "      <th>3</th>\n",
       "      <td>MD-82</td>\n",
       "      <td>Climb</td>\n",
       "      <td>South Atlantic</td>\n",
       "      <td>50.0</td>\n",
       "      <td>170.0</td>\n",
       "      <td>None</td>\n",
       "      <td>Some Cloud</td>\n",
       "      <td>UNKNOWN BIRD - SMALL</td>\n",
       "      <td>1</td>\n",
       "      <td>September</td>\n",
       "      <td>Fall</td>\n",
       "    </tr>\n",
       "    <tr>\n",
       "      <th>4</th>\n",
       "      <td>BE-99</td>\n",
       "      <td>Landing Roll</td>\n",
       "      <td>South Atlantic</td>\n",
       "      <td>0.0</td>\n",
       "      <td>40.0</td>\n",
       "      <td>None</td>\n",
       "      <td>Some Cloud</td>\n",
       "      <td>HAWKS</td>\n",
       "      <td>1</td>\n",
       "      <td>September</td>\n",
       "      <td>Fall</td>\n",
       "    </tr>\n",
       "  </tbody>\n",
       "</table>\n",
       "</div>"
      ],
      "text/plain": [
       "        atype  phase_of_flt               state  height  speed effect  \\\n",
       "0  FK-28-4000         Climb      South Atlantic    10.0  140.0   None   \n",
       "1   B-727-200      Approach  East South Central   400.0  140.0   None   \n",
       "2       MD-82         Climb      South Atlantic   100.0  200.0   None   \n",
       "3       MD-82         Climb      South Atlantic    50.0  170.0   None   \n",
       "4       BE-99  Landing Roll      South Atlantic     0.0   40.0   None   \n",
       "\n",
       "          sky                species birds_struck month_of_the_year  season  \n",
       "0    No Cloud  UNKNOWN BIRD - MEDIUM         2-10          November    Fall  \n",
       "1  Some Cloud   UNKNOWN BIRD - SMALL            1            August  Summer  \n",
       "2    Overcast   UNKNOWN BIRD - SMALL            1           October    Fall  \n",
       "3  Some Cloud   UNKNOWN BIRD - SMALL            1         September    Fall  \n",
       "4  Some Cloud                  HAWKS            1         September    Fall  "
      ]
     },
     "execution_count": 4,
     "metadata": {},
     "output_type": "execute_result"
    }
   ],
   "source": [
    "df = pd.read_csv(\"ready_for_preprocessing.csv\")\n",
    "df.head()"
   ]
  },
  {
   "cell_type": "code",
   "execution_count": 5,
   "id": "c085cb8c",
   "metadata": {
    "ExecuteTime": {
     "end_time": "2022-09-01T14:54:52.204545Z",
     "start_time": "2022-09-01T14:54:52.175622Z"
    }
   },
   "outputs": [
    {
     "name": "stdout",
     "output_type": "stream",
     "text": [
      "<class 'pandas.core.frame.DataFrame'>\n",
      "RangeIndex: 13116 entries, 0 to 13115\n",
      "Data columns (total 11 columns):\n",
      " #   Column             Non-Null Count  Dtype  \n",
      "---  ------             --------------  -----  \n",
      " 0   atype              13116 non-null  object \n",
      " 1   phase_of_flt       13116 non-null  object \n",
      " 2   state              13116 non-null  object \n",
      " 3   height             13116 non-null  float64\n",
      " 4   speed              13116 non-null  float64\n",
      " 5   effect             13116 non-null  object \n",
      " 6   sky                13116 non-null  object \n",
      " 7   species            13116 non-null  object \n",
      " 8   birds_struck       13116 non-null  object \n",
      " 9   month_of_the_year  13116 non-null  object \n",
      " 10  season             13116 non-null  object \n",
      "dtypes: float64(2), object(9)\n",
      "memory usage: 1.1+ MB\n"
     ]
    }
   ],
   "source": [
    "df.info()"
   ]
  },
  {
   "cell_type": "markdown",
   "id": "0383aa46",
   "metadata": {},
   "source": [
    "# Visual explore"
   ]
  },
  {
   "cell_type": "markdown",
   "id": "a6874e4b",
   "metadata": {},
   "source": [
    "* I will try to visulize my both ML ready data and original one"
   ]
  },
  {
   "cell_type": "code",
   "execution_count": 24,
   "id": "edc9c664",
   "metadata": {
    "ExecuteTime": {
     "end_time": "2022-09-01T15:18:44.588759Z",
     "start_time": "2022-09-01T15:18:44.254227Z"
    }
   },
   "outputs": [
    {
     "data": {
      "application/vnd.jupyter.widget-view+json": {
       "model_id": "cc83d8a8a4b142abbaacdb6f4dfb0fb9",
       "version_major": 2,
       "version_minor": 0
      },
      "text/plain": [
       "interactive(children=(Dropdown(description='col', options=('opid', 'operator', 'atype', 'remarks', 'phase_of_f…"
      ]
     },
     "metadata": {},
     "output_type": "display_data"
    }
   ],
   "source": [
    "def column_boxer(col):\n",
    "    birds_df[col].iplot(\"box\")\n",
    "cols = birds_df.columns    \n",
    "interact(column_boxer,col = cols);"
   ]
  },
  {
   "cell_type": "code",
   "execution_count": 19,
   "id": "1dc70d62",
   "metadata": {
    "ExecuteTime": {
     "end_time": "2022-09-01T15:09:08.964738Z",
     "start_time": "2022-09-01T15:09:08.810090Z"
    }
   },
   "outputs": [
    {
     "data": {
      "application/vnd.jupyter.widget-view+json": {
       "model_id": "f3713bba077b414c998746bf8524f102",
       "version_major": 2,
       "version_minor": 0
      },
      "text/plain": [
       "interactive(children=(Dropdown(description='col', options=('atype', 'phase_of_flt', 'state', 'height', 'speed'…"
      ]
     },
     "metadata": {},
     "output_type": "display_data"
    }
   ],
   "source": [
    "def column_boxer(col):\n",
    "    df[col].iplot(\"box\")\n",
    "cols = df.columns    \n",
    "interact(column_boxer,col = cols);"
   ]
  },
  {
   "cell_type": "markdown",
   "id": "c44eb052",
   "metadata": {},
   "source": [
    "* for the height we didn't change distrubution but our median slightly changed after filling missing values\n",
    "* speed identical on both dataframe\n",
    "* height have outliers"
   ]
  },
  {
   "cell_type": "code",
   "execution_count": 43,
   "id": "50ae0e3c",
   "metadata": {
    "ExecuteTime": {
     "end_time": "2022-09-01T15:58:26.252097Z",
     "start_time": "2022-09-01T15:58:26.103499Z"
    }
   },
   "outputs": [
    {
     "data": {
      "application/vnd.jupyter.widget-view+json": {
       "model_id": "18886239814d4f47a6d2d4515ad8c3e3",
       "version_major": 2,
       "version_minor": 0
      },
      "text/plain": [
       "interactive(children=(Dropdown(description='col', options=('opid', 'operator', 'atype', 'remarks', 'phase_of_f…"
      ]
     },
     "metadata": {},
     "output_type": "display_data"
    }
   ],
   "source": [
    "def column_histogram(col):\n",
    "    fig = px.histogram(birds_df,x=col, color=\"effect\")\n",
    "    fig.show()\n",
    "cols = birds_df.columns\n",
    "\n",
    "interact(column_histogram,col=cols);"
   ]
  },
  {
   "cell_type": "code",
   "execution_count": 42,
   "id": "90d319a9",
   "metadata": {
    "ExecuteTime": {
     "end_time": "2022-09-01T15:44:52.241260Z",
     "start_time": "2022-09-01T15:44:52.116552Z"
    }
   },
   "outputs": [
    {
     "data": {
      "application/vnd.jupyter.widget-view+json": {
       "model_id": "b4047c027896462292a53acda40a6fae",
       "version_major": 2,
       "version_minor": 0
      },
      "text/plain": [
       "interactive(children=(Dropdown(description='col', options=('atype', 'phase_of_flt', 'state', 'height', 'speed'…"
      ]
     },
     "metadata": {},
     "output_type": "display_data"
    }
   ],
   "source": [
    "def column_histogram(col):\n",
    "    fig = px.histogram(df,x=col , color=\"effect\")\n",
    "    fig.show()\n",
    "cols = df.columns\n",
    "interact(column_histogram,col=cols);"
   ]
  },
  {
   "cell_type": "markdown",
   "id": "eea52128",
   "metadata": {},
   "source": [
    "* According to type of aircraft we can say engine shutdown happens mostly with multi engine aircrafts\n",
    "* After useal commercial airline aircrafts such as 737 and 747, BA-31 jetstream has quite large amount of bird strike \n",
    "* Small birds have more strike frequency than other type of birds\n",
    "* Gulls are the most cause of angine shut down\n",
    "* Engine shut downs happened during climb at maximum and second one on the take of run. these are 2 critical phase of flight. so low level flaying birds usaally fly in that zones.\n",
    "* Cloud formation gives us that insight \"more cloud less bird strikes\"\n",
    "* I see most bird strikes happen in the South Atlantic, while the engine shutdown procedure takes place more in the Mid-Atlantic than in the South Atlantic\n",
    "* Most strikes happen in three months of the year. These are August,September,October repectively\n",
    "* In season-wise bird strikes occur at least in winter "
   ]
  },
  {
   "cell_type": "code",
   "execution_count": null,
   "id": "57153413",
   "metadata": {},
   "outputs": [],
   "source": []
  }
 ],
 "metadata": {
  "hide_input": false,
  "kernelspec": {
   "display_name": "Python 3 (ipykernel)",
   "language": "python",
   "name": "python3"
  },
  "language_info": {
   "codemirror_mode": {
    "name": "ipython",
    "version": 3
   },
   "file_extension": ".py",
   "mimetype": "text/x-python",
   "name": "python",
   "nbconvert_exporter": "python",
   "pygments_lexer": "ipython3",
   "version": "3.9.12"
  },
  "toc": {
   "base_numbering": 1,
   "nav_menu": {},
   "number_sections": true,
   "sideBar": true,
   "skip_h1_title": false,
   "title_cell": "Table of Contents",
   "title_sidebar": "Contents",
   "toc_cell": false,
   "toc_position": {},
   "toc_section_display": true,
   "toc_window_display": false
  },
  "varInspector": {
   "cols": {
    "lenName": 16,
    "lenType": 16,
    "lenVar": 40
   },
   "kernels_config": {
    "python": {
     "delete_cmd_postfix": "",
     "delete_cmd_prefix": "del ",
     "library": "var_list.py",
     "varRefreshCmd": "print(var_dic_list())"
    },
    "r": {
     "delete_cmd_postfix": ") ",
     "delete_cmd_prefix": "rm(",
     "library": "var_list.r",
     "varRefreshCmd": "cat(var_dic_list()) "
    }
   },
   "types_to_exclude": [
    "module",
    "function",
    "builtin_function_or_method",
    "instance",
    "_Feature"
   ],
   "window_display": false
  }
 },
 "nbformat": 4,
 "nbformat_minor": 5
}
