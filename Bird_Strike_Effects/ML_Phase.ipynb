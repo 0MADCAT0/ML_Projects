{
 "cells": [
  {
   "cell_type": "code",
   "execution_count": 1,
   "id": "137e8cf0",
   "metadata": {
    "ExecuteTime": {
     "end_time": "2022-09-15T14:20:41.897528Z",
     "start_time": "2022-09-15T14:20:40.055301Z"
    }
   },
   "outputs": [
    {
     "data": {
      "text/html": [
       "        <script type=\"text/javascript\">\n",
       "        window.PlotlyConfig = {MathJaxConfig: 'local'};\n",
       "        if (window.MathJax && window.MathJax.Hub && window.MathJax.Hub.Config) {window.MathJax.Hub.Config({SVG: {font: \"STIX-Web\"}});}\n",
       "        if (typeof require !== 'undefined') {\n",
       "        require.undef(\"plotly\");\n",
       "        requirejs.config({\n",
       "            paths: {\n",
       "                'plotly': ['https://cdn.plot.ly/plotly-2.12.1.min']\n",
       "            }\n",
       "        });\n",
       "        require(['plotly'], function(Plotly) {\n",
       "            window._Plotly = Plotly;\n",
       "        });\n",
       "        }\n",
       "        </script>\n",
       "        "
      ]
     },
     "metadata": {},
     "output_type": "display_data"
    },
    {
     "data": {
      "text/html": [
       "        <script type=\"text/javascript\">\n",
       "        window.PlotlyConfig = {MathJaxConfig: 'local'};\n",
       "        if (window.MathJax && window.MathJax.Hub && window.MathJax.Hub.Config) {window.MathJax.Hub.Config({SVG: {font: \"STIX-Web\"}});}\n",
       "        if (typeof require !== 'undefined') {\n",
       "        require.undef(\"plotly\");\n",
       "        requirejs.config({\n",
       "            paths: {\n",
       "                'plotly': ['https://cdn.plot.ly/plotly-2.12.1.min']\n",
       "            }\n",
       "        });\n",
       "        require(['plotly'], function(Plotly) {\n",
       "            window._Plotly = Plotly;\n",
       "        });\n",
       "        }\n",
       "        </script>\n",
       "        "
      ]
     },
     "metadata": {},
     "output_type": "display_data"
    }
   ],
   "source": [
    "import pyforest\n",
    "import plotly\n",
    "import cufflinks as cf\n",
    "#Enabling the offline mode for interactive plotting locally\n",
    "from plotly.offline import download_plotlyjs,init_notebook_mode,plot,iplot\n",
    "init_notebook_mode(connected=True)\n",
    "cf.go_offline()\n",
    "#To display the plots\n",
    "%matplotlib inline\n",
    "import warnings\n",
    "warnings.filterwarnings('ignore')\n",
    "from sklearn.preprocessing import MinMaxScaler,StandardScaler,RobustScaler\n",
    "from sklearn.linear_model import LogisticRegression\n",
    "from sklearn.model_selection import cross_validate, GridSearchCV\n",
    "from sklearn.metrics import accuracy_score, f1_score, recall_score, precision_score\n",
    "from sklearn.metrics import make_scorer\n",
    "from sklearn.metrics import classification_report,confusion_matrix,plot_confusion_matrix\n",
    "from sklearn.metrics import roc_curve, auc\n",
    "from sklearn.svm import SVC\n",
    "from sklearn.ensemble import RandomForestClassifier\n",
    "from xgboost import XGBClassifier"
   ]
  },
  {
   "cell_type": "markdown",
   "id": "56ef9a1f",
   "metadata": {},
   "source": [
    "# Ingest Data "
   ]
  },
  {
   "cell_type": "code",
   "execution_count": 2,
   "id": "c98dc75a",
   "metadata": {
    "ExecuteTime": {
     "end_time": "2022-09-15T14:21:26.958063Z",
     "start_time": "2022-09-15T14:21:26.742113Z"
    }
   },
   "outputs": [
    {
     "data": {
      "application/javascript": [
       "\n",
       "        if (window._pyforest_update_imports_cell) { window._pyforest_update_imports_cell('import pandas as pd'); }\n",
       "    "
      ],
      "text/plain": [
       "<IPython.core.display.Javascript object>"
      ]
     },
     "metadata": {},
     "output_type": "display_data"
    },
    {
     "data": {
      "text/html": [
       "<div>\n",
       "<style scoped>\n",
       "    .dataframe tbody tr th:only-of-type {\n",
       "        vertical-align: middle;\n",
       "    }\n",
       "\n",
       "    .dataframe tbody tr th {\n",
       "        vertical-align: top;\n",
       "    }\n",
       "\n",
       "    .dataframe thead th {\n",
       "        text-align: right;\n",
       "    }\n",
       "</style>\n",
       "<table border=\"1\" class=\"dataframe\">\n",
       "  <thead>\n",
       "    <tr style=\"text-align: right;\">\n",
       "      <th></th>\n",
       "      <th>atype</th>\n",
       "      <th>phase_of_flt</th>\n",
       "      <th>state</th>\n",
       "      <th>height</th>\n",
       "      <th>speed</th>\n",
       "      <th>effect</th>\n",
       "      <th>sky</th>\n",
       "      <th>species</th>\n",
       "      <th>birds_struck</th>\n",
       "      <th>month_of_the_year</th>\n",
       "      <th>season</th>\n",
       "    </tr>\n",
       "  </thead>\n",
       "  <tbody>\n",
       "    <tr>\n",
       "      <th>0</th>\n",
       "      <td>FK-28-4000</td>\n",
       "      <td>Climb</td>\n",
       "      <td>South Atlantic</td>\n",
       "      <td>10.0</td>\n",
       "      <td>140.0</td>\n",
       "      <td>None</td>\n",
       "      <td>No Cloud</td>\n",
       "      <td>UNKNOWN BIRD - MEDIUM</td>\n",
       "      <td>2-10</td>\n",
       "      <td>November</td>\n",
       "      <td>Fall</td>\n",
       "    </tr>\n",
       "    <tr>\n",
       "      <th>1</th>\n",
       "      <td>B-727-200</td>\n",
       "      <td>Approach</td>\n",
       "      <td>East South Central</td>\n",
       "      <td>400.0</td>\n",
       "      <td>140.0</td>\n",
       "      <td>None</td>\n",
       "      <td>Some Cloud</td>\n",
       "      <td>UNKNOWN BIRD - SMALL</td>\n",
       "      <td>1</td>\n",
       "      <td>August</td>\n",
       "      <td>Summer</td>\n",
       "    </tr>\n",
       "    <tr>\n",
       "      <th>2</th>\n",
       "      <td>MD-82</td>\n",
       "      <td>Climb</td>\n",
       "      <td>South Atlantic</td>\n",
       "      <td>100.0</td>\n",
       "      <td>200.0</td>\n",
       "      <td>None</td>\n",
       "      <td>Overcast</td>\n",
       "      <td>UNKNOWN BIRD - SMALL</td>\n",
       "      <td>1</td>\n",
       "      <td>October</td>\n",
       "      <td>Fall</td>\n",
       "    </tr>\n",
       "    <tr>\n",
       "      <th>3</th>\n",
       "      <td>MD-82</td>\n",
       "      <td>Climb</td>\n",
       "      <td>South Atlantic</td>\n",
       "      <td>50.0</td>\n",
       "      <td>170.0</td>\n",
       "      <td>None</td>\n",
       "      <td>Some Cloud</td>\n",
       "      <td>UNKNOWN BIRD - SMALL</td>\n",
       "      <td>1</td>\n",
       "      <td>September</td>\n",
       "      <td>Fall</td>\n",
       "    </tr>\n",
       "    <tr>\n",
       "      <th>4</th>\n",
       "      <td>BE-99</td>\n",
       "      <td>Landing Roll</td>\n",
       "      <td>South Atlantic</td>\n",
       "      <td>0.0</td>\n",
       "      <td>40.0</td>\n",
       "      <td>None</td>\n",
       "      <td>Some Cloud</td>\n",
       "      <td>HAWKS</td>\n",
       "      <td>1</td>\n",
       "      <td>September</td>\n",
       "      <td>Fall</td>\n",
       "    </tr>\n",
       "  </tbody>\n",
       "</table>\n",
       "</div>"
      ],
      "text/plain": [
       "        atype  phase_of_flt               state  height  ...                species birds_struck month_of_the_year  season\n",
       "0  FK-28-4000         Climb      South Atlantic    10.0  ...  UNKNOWN BIRD - MEDIUM         2-10          November    Fall\n",
       "1   B-727-200      Approach  East South Central   400.0  ...   UNKNOWN BIRD - SMALL            1            August  Summer\n",
       "2       MD-82         Climb      South Atlantic   100.0  ...   UNKNOWN BIRD - SMALL            1           October    Fall\n",
       "3       MD-82         Climb      South Atlantic    50.0  ...   UNKNOWN BIRD - SMALL            1         September    Fall\n",
       "4       BE-99  Landing Roll      South Atlantic     0.0  ...                  HAWKS            1         September    Fall\n",
       "\n",
       "[5 rows x 11 columns]"
      ]
     },
     "execution_count": 2,
     "metadata": {},
     "output_type": "execute_result"
    }
   ],
   "source": [
    "df = pd.read_csv(\"ready_for_preprocessing.csv\")\n",
    "df.head()"
   ]
  },
  {
   "cell_type": "code",
   "execution_count": 3,
   "id": "ea191cca",
   "metadata": {
    "ExecuteTime": {
     "end_time": "2022-09-15T14:22:03.040858Z",
     "start_time": "2022-09-15T14:22:02.935142Z"
    }
   },
   "outputs": [
    {
     "name": "stdout",
     "output_type": "stream",
     "text": [
      "<class 'pandas.core.frame.DataFrame'>\n",
      "RangeIndex: 13116 entries, 0 to 13115\n",
      "Data columns (total 11 columns):\n",
      " #   Column             Non-Null Count  Dtype  \n",
      "---  ------             --------------  -----  \n",
      " 0   atype              13116 non-null  object \n",
      " 1   phase_of_flt       13116 non-null  object \n",
      " 2   state              13116 non-null  object \n",
      " 3   height             13116 non-null  float64\n",
      " 4   speed              13116 non-null  float64\n",
      " 5   effect             13116 non-null  object \n",
      " 6   sky                13116 non-null  object \n",
      " 7   species            13116 non-null  object \n",
      " 8   birds_struck       13116 non-null  object \n",
      " 9   month_of_the_year  13116 non-null  object \n",
      " 10  season             13116 non-null  object \n",
      "dtypes: float64(2), object(9)\n",
      "memory usage: 1.1+ MB\n"
     ]
    }
   ],
   "source": [
    "df.info()"
   ]
  },
  {
   "cell_type": "code",
   "execution_count": 5,
   "id": "afe59a58",
   "metadata": {
    "ExecuteTime": {
     "end_time": "2022-09-15T14:22:33.512184Z",
     "start_time": "2022-09-15T14:22:33.485179Z"
    }
   },
   "outputs": [
    {
     "data": {
      "text/plain": [
       "(13116, 11)"
      ]
     },
     "execution_count": 5,
     "metadata": {},
     "output_type": "execute_result"
    }
   ],
   "source": [
    "df.shape"
   ]
  },
  {
   "cell_type": "markdown",
   "id": "c675272b",
   "metadata": {},
   "source": [
    "## Drop duplicates\n",
    "* just droped duplicates that have \"None\" on target column"
   ]
  },
  {
   "cell_type": "code",
   "execution_count": 6,
   "id": "07de77ba",
   "metadata": {
    "ExecuteTime": {
     "end_time": "2022-09-15T14:22:49.247052Z",
     "start_time": "2022-09-15T14:22:49.179198Z"
    }
   },
   "outputs": [
    {
     "data": {
      "text/plain": [
       "123"
      ]
     },
     "execution_count": 6,
     "metadata": {},
     "output_type": "execute_result"
    }
   ],
   "source": [
    "df.duplicated().sum()"
   ]
  },
  {
   "cell_type": "code",
   "execution_count": 8,
   "id": "e3141cbb",
   "metadata": {
    "ExecuteTime": {
     "end_time": "2022-09-15T14:24:19.999199Z",
     "start_time": "2022-09-15T14:24:19.935410Z"
    }
   },
   "outputs": [
    {
     "data": {
      "text/plain": [
       "None                     120\n",
       "Precautionary Landing      3\n",
       "Name: effect, dtype: int64"
      ]
     },
     "execution_count": 8,
     "metadata": {},
     "output_type": "execute_result"
    }
   ],
   "source": [
    "df.loc[df.duplicated()][\"effect\"].value_counts()"
   ]
  },
  {
   "cell_type": "code",
   "execution_count": 21,
   "id": "5836d8e3",
   "metadata": {
    "ExecuteTime": {
     "end_time": "2022-09-15T14:35:03.467948Z",
     "start_time": "2022-09-15T14:35:03.384128Z"
    }
   },
   "outputs": [],
   "source": [
    "drop_idx = df.loc[(df.duplicated())&(df.effect == \"None\")].drop_duplicates().index"
   ]
  },
  {
   "cell_type": "code",
   "execution_count": 24,
   "id": "343d2739",
   "metadata": {
    "ExecuteTime": {
     "end_time": "2022-09-15T14:36:04.126685Z",
     "start_time": "2022-09-15T14:36:04.097851Z"
    }
   },
   "outputs": [],
   "source": [
    "df.drop(drop_idx, inplace=True)\n"
   ]
  },
  {
   "cell_type": "code",
   "execution_count": 25,
   "id": "86577799",
   "metadata": {
    "ExecuteTime": {
     "end_time": "2022-09-15T14:36:12.839642Z",
     "start_time": "2022-09-15T14:36:12.813675Z"
    }
   },
   "outputs": [
    {
     "data": {
      "text/plain": [
       "(13038, 11)"
      ]
     },
     "execution_count": 25,
     "metadata": {},
     "output_type": "execute_result"
    }
   ],
   "source": [
    "df.shape"
   ]
  },
  {
   "cell_type": "code",
   "execution_count": 27,
   "id": "c2e9146f",
   "metadata": {
    "ExecuteTime": {
     "end_time": "2022-09-15T14:37:10.002046Z",
     "start_time": "2022-09-15T14:37:09.895191Z"
    }
   },
   "outputs": [
    {
     "data": {
      "text/html": [
       "<div>\n",
       "<style scoped>\n",
       "    .dataframe tbody tr th:only-of-type {\n",
       "        vertical-align: middle;\n",
       "    }\n",
       "\n",
       "    .dataframe tbody tr th {\n",
       "        vertical-align: top;\n",
       "    }\n",
       "\n",
       "    .dataframe thead th {\n",
       "        text-align: right;\n",
       "    }\n",
       "</style>\n",
       "<table border=\"1\" class=\"dataframe\">\n",
       "  <thead>\n",
       "    <tr style=\"text-align: right;\">\n",
       "      <th></th>\n",
       "      <th>atype</th>\n",
       "      <th>phase_of_flt</th>\n",
       "      <th>state</th>\n",
       "      <th>height</th>\n",
       "      <th>speed</th>\n",
       "      <th>effect</th>\n",
       "      <th>sky</th>\n",
       "      <th>species</th>\n",
       "      <th>birds_struck</th>\n",
       "      <th>month_of_the_year</th>\n",
       "      <th>season</th>\n",
       "    </tr>\n",
       "  </thead>\n",
       "  <tbody>\n",
       "    <tr>\n",
       "      <th>0</th>\n",
       "      <td>FK-28-4000</td>\n",
       "      <td>Climb</td>\n",
       "      <td>South Atlantic</td>\n",
       "      <td>10.0</td>\n",
       "      <td>140.0</td>\n",
       "      <td>None</td>\n",
       "      <td>No Cloud</td>\n",
       "      <td>UNKNOWN BIRD - MEDIUM</td>\n",
       "      <td>2-10</td>\n",
       "      <td>November</td>\n",
       "      <td>Fall</td>\n",
       "    </tr>\n",
       "    <tr>\n",
       "      <th>1</th>\n",
       "      <td>B-727-200</td>\n",
       "      <td>Approach</td>\n",
       "      <td>East South Central</td>\n",
       "      <td>400.0</td>\n",
       "      <td>140.0</td>\n",
       "      <td>None</td>\n",
       "      <td>Some Cloud</td>\n",
       "      <td>UNKNOWN BIRD - SMALL</td>\n",
       "      <td>1</td>\n",
       "      <td>August</td>\n",
       "      <td>Summer</td>\n",
       "    </tr>\n",
       "    <tr>\n",
       "      <th>2</th>\n",
       "      <td>MD-82</td>\n",
       "      <td>Climb</td>\n",
       "      <td>South Atlantic</td>\n",
       "      <td>100.0</td>\n",
       "      <td>200.0</td>\n",
       "      <td>None</td>\n",
       "      <td>Overcast</td>\n",
       "      <td>UNKNOWN BIRD - SMALL</td>\n",
       "      <td>1</td>\n",
       "      <td>October</td>\n",
       "      <td>Fall</td>\n",
       "    </tr>\n",
       "    <tr>\n",
       "      <th>3</th>\n",
       "      <td>MD-82</td>\n",
       "      <td>Climb</td>\n",
       "      <td>South Atlantic</td>\n",
       "      <td>50.0</td>\n",
       "      <td>170.0</td>\n",
       "      <td>None</td>\n",
       "      <td>Some Cloud</td>\n",
       "      <td>UNKNOWN BIRD - SMALL</td>\n",
       "      <td>1</td>\n",
       "      <td>September</td>\n",
       "      <td>Fall</td>\n",
       "    </tr>\n",
       "    <tr>\n",
       "      <th>4</th>\n",
       "      <td>BE-99</td>\n",
       "      <td>Landing Roll</td>\n",
       "      <td>South Atlantic</td>\n",
       "      <td>0.0</td>\n",
       "      <td>40.0</td>\n",
       "      <td>None</td>\n",
       "      <td>Some Cloud</td>\n",
       "      <td>HAWKS</td>\n",
       "      <td>1</td>\n",
       "      <td>September</td>\n",
       "      <td>Fall</td>\n",
       "    </tr>\n",
       "    <tr>\n",
       "      <th>...</th>\n",
       "      <td>...</td>\n",
       "      <td>...</td>\n",
       "      <td>...</td>\n",
       "      <td>...</td>\n",
       "      <td>...</td>\n",
       "      <td>...</td>\n",
       "      <td>...</td>\n",
       "      <td>...</td>\n",
       "      <td>...</td>\n",
       "      <td>...</td>\n",
       "      <td>...</td>\n",
       "    </tr>\n",
       "    <tr>\n",
       "      <th>13033</th>\n",
       "      <td>C-152</td>\n",
       "      <td>Climb</td>\n",
       "      <td>South Atlantic</td>\n",
       "      <td>50.0</td>\n",
       "      <td>65.0</td>\n",
       "      <td>Precautionary Landing</td>\n",
       "      <td>Some Cloud</td>\n",
       "      <td>UNKNOWN BIRD</td>\n",
       "      <td>1</td>\n",
       "      <td>October</td>\n",
       "      <td>Fall</td>\n",
       "    </tr>\n",
       "    <tr>\n",
       "      <th>13034</th>\n",
       "      <td>PA-38 TOMAHAWK</td>\n",
       "      <td>Take-off run</td>\n",
       "      <td>South Atlantic</td>\n",
       "      <td>0.0</td>\n",
       "      <td>120.0</td>\n",
       "      <td>Precautionary Landing</td>\n",
       "      <td>No Cloud</td>\n",
       "      <td>WHITE-TAILED DEER</td>\n",
       "      <td>1</td>\n",
       "      <td>June</td>\n",
       "      <td>Summer</td>\n",
       "    </tr>\n",
       "    <tr>\n",
       "      <th>13035</th>\n",
       "      <td>MD-80</td>\n",
       "      <td>Approach</td>\n",
       "      <td>East North Central</td>\n",
       "      <td>50.0</td>\n",
       "      <td>140.0</td>\n",
       "      <td>None</td>\n",
       "      <td>Some Cloud</td>\n",
       "      <td>UNKNOWN BIRD - MEDIUM</td>\n",
       "      <td>1</td>\n",
       "      <td>September</td>\n",
       "      <td>Fall</td>\n",
       "    </tr>\n",
       "    <tr>\n",
       "      <th>13036</th>\n",
       "      <td>LOCKHEED 188</td>\n",
       "      <td>Climb</td>\n",
       "      <td>New England</td>\n",
       "      <td>50.0</td>\n",
       "      <td>150.0</td>\n",
       "      <td>None</td>\n",
       "      <td>No Cloud</td>\n",
       "      <td>ROCK PIGEON</td>\n",
       "      <td>1</td>\n",
       "      <td>January</td>\n",
       "      <td>Winter</td>\n",
       "    </tr>\n",
       "    <tr>\n",
       "      <th>13037</th>\n",
       "      <td>EXPERIMENTAL</td>\n",
       "      <td>En Route</td>\n",
       "      <td>Unknown</td>\n",
       "      <td>2500.0</td>\n",
       "      <td>150.0</td>\n",
       "      <td>Precautionary Landing</td>\n",
       "      <td>No Cloud</td>\n",
       "      <td>DUCKS</td>\n",
       "      <td>1</td>\n",
       "      <td>November</td>\n",
       "      <td>Fall</td>\n",
       "    </tr>\n",
       "  </tbody>\n",
       "</table>\n",
       "<p>13038 rows × 11 columns</p>\n",
       "</div>"
      ],
      "text/plain": [
       "                atype  phase_of_flt               state  ...  birds_struck  month_of_the_year  season\n",
       "0          FK-28-4000         Climb      South Atlantic  ...          2-10           November    Fall\n",
       "1           B-727-200      Approach  East South Central  ...             1             August  Summer\n",
       "2               MD-82         Climb      South Atlantic  ...             1            October    Fall\n",
       "3               MD-82         Climb      South Atlantic  ...             1          September    Fall\n",
       "4               BE-99  Landing Roll      South Atlantic  ...             1          September    Fall\n",
       "...               ...           ...                 ...  ...           ...                ...     ...\n",
       "13033           C-152         Climb      South Atlantic  ...             1            October    Fall\n",
       "13034  PA-38 TOMAHAWK  Take-off run      South Atlantic  ...             1               June  Summer\n",
       "13035           MD-80      Approach  East North Central  ...             1          September    Fall\n",
       "13036    LOCKHEED 188         Climb         New England  ...             1            January  Winter\n",
       "13037    EXPERIMENTAL      En Route             Unknown  ...             1           November    Fall\n",
       "\n",
       "[13038 rows x 11 columns]"
      ]
     },
     "execution_count": 27,
     "metadata": {},
     "output_type": "execute_result"
    }
   ],
   "source": [
    "df.reset_index(drop=True,inplace=True)\n",
    "df"
   ]
  },
  {
   "cell_type": "code",
   "execution_count": null,
   "id": "418be09a",
   "metadata": {},
   "outputs": [],
   "source": []
  }
 ],
 "metadata": {
  "hide_input": false,
  "kernelspec": {
   "display_name": "Python 3 (ipykernel)",
   "language": "python",
   "name": "python3"
  },
  "language_info": {
   "codemirror_mode": {
    "name": "ipython",
    "version": 3
   },
   "file_extension": ".py",
   "mimetype": "text/x-python",
   "name": "python",
   "nbconvert_exporter": "python",
   "pygments_lexer": "ipython3",
   "version": "3.9.13"
  },
  "toc": {
   "base_numbering": 1,
   "nav_menu": {},
   "number_sections": true,
   "sideBar": true,
   "skip_h1_title": false,
   "title_cell": "Table of Contents",
   "title_sidebar": "Contents",
   "toc_cell": false,
   "toc_position": {},
   "toc_section_display": true,
   "toc_window_display": false
  },
  "varInspector": {
   "cols": {
    "lenName": 16,
    "lenType": 16,
    "lenVar": 40
   },
   "kernels_config": {
    "python": {
     "delete_cmd_postfix": "",
     "delete_cmd_prefix": "del ",
     "library": "var_list.py",
     "varRefreshCmd": "print(var_dic_list())"
    },
    "r": {
     "delete_cmd_postfix": ") ",
     "delete_cmd_prefix": "rm(",
     "library": "var_list.r",
     "varRefreshCmd": "cat(var_dic_list()) "
    }
   },
   "types_to_exclude": [
    "module",
    "function",
    "builtin_function_or_method",
    "instance",
    "_Feature"
   ],
   "window_display": false
  }
 },
 "nbformat": 4,
 "nbformat_minor": 5
}
