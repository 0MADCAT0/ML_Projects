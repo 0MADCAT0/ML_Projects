{
 "cells": [
  {
   "cell_type": "markdown",
   "id": "b1fb231a",
   "metadata": {},
   "source": [
    "# Dataset Specfication and Dictionary "
   ]
  },
  {
   "cell_type": "markdown",
   "id": "e2c18d1b",
   "metadata": {},
   "source": [
    "***Aircraft-Wildlife Collisions***\n",
    "**Description**\n",
    "A collection of all collisions between aircraft in wildlife that were reported to the US Federal Aviation Administration between 1990 and 1997, with details on the circumstances of the collision.\n",
    "\n",
    "**Format**\n",
    "A data frame with 19302 observations on the following 17 variables.\n",
    "\n",
    "- opid:\n",
    "Three letter identification code for the operator (carrier) of the aircraft.\n",
    "\n",
    "- operator:\n",
    "Name of the aircraft operator.\n",
    "\n",
    "- atype:\n",
    "Make and model of aircraft.\n",
    "\n",
    "- remarks:\n",
    "Verbal remarks regarding the collision.\n",
    "\n",
    "- phase_of_flt:\n",
    "Phase of the flight during which the collision occurred: Approach, Climb, Descent, En Route, Landing Roll, Parked, Take-off run, Taxi.\n",
    "\n",
    "- ac_mass:\n",
    "Mass of the aircraft classified as 2250 kg or less (1), 2251-5700 kg (2), 5701-27000 kg (3), 27001-272000 kg (4), above 272000 kg (5).\n",
    "\n",
    "- num_engs:\n",
    "Number of engines on the aircraft.\n",
    "\n",
    "- date:\n",
    "Date of the collision (MM/DD/YYYY).\n",
    "\n",
    "- time_of_day:\n",
    "Light conditions: Dawn, Day, Dusk, Night.\n",
    "\n",
    "- state:\n",
    "Two letter abbreviation of the US state in which the collision occurred.\n",
    "\n",
    "- height:\n",
    "Feet above ground level.\n",
    "\n",
    "- speed:\n",
    "Knots (indicated air speed).\n",
    "\n",
    "- effect:\n",
    "Effect on flight: Aborted Take-off, Engine Shut Down, None, Other, Precautionary Landing.\n",
    "\n",
    "- sky:\n",
    "Type of cloud cover, if any: No Cloud, Overcast, Some Cloud.\n",
    "\n",
    "- species:\n",
    "Common name for bird or other wildlife.\n",
    "\n",
    "- birds_seen:\n",
    "Number of birds/wildlife seen by pilot: 1, 2-10, 11-100, Over 100.\n",
    "\n",
    "- birds_struck:\n",
    "Number of birds/wildlife struck: 0, 1, 2-10, 11-100, Over 100.\n",
    "\n",
    "**Details**\n",
    "The FAA National Wildlife Strike Database contains strike reports that are voluntarily reported to the FAA by pilots, airlines, airports and others. Current research indicates that only about 20\\ Wildlife strike reporting is not uniform as some organizations have more robust voluntary reporting procedures. Because of variations in reporting, users are cautioned that the comparisons between individual airports or airlines may be misleading.\n",
    "\n",
    "**Source**\n",
    "Aircraft Wildlife Strike Data: Search Tool - FAA Wildlife Strike Database. Available at https://dev.socrata.com/foundry/datahub.transportation.gov/jhay-dgxy. Retrieval date: Feb 4, 2012.\n",
    "\n",
    "**Objective:**\n",
    "In this project, I try to predict effect of bird struck to speed up decision process and airfield preperations in emercencies. In this context, this project will inspire others for future process.    "
   ]
  },
  {
   "cell_type": "markdown",
   "id": "04950385",
   "metadata": {},
   "source": [
    "# Import libraries  "
   ]
  },
  {
   "cell_type": "code",
   "execution_count": 1,
   "id": "2ad3cf44",
   "metadata": {
    "ExecuteTime": {
     "end_time": "2022-08-27T21:57:32.194477Z",
     "start_time": "2022-08-27T21:57:29.090297Z"
    }
   },
   "outputs": [
    {
     "data": {
      "text/html": [
       "        <script type=\"text/javascript\">\n",
       "        window.PlotlyConfig = {MathJaxConfig: 'local'};\n",
       "        if (window.MathJax && window.MathJax.Hub && window.MathJax.Hub.Config) {window.MathJax.Hub.Config({SVG: {font: \"STIX-Web\"}});}\n",
       "        if (typeof require !== 'undefined') {\n",
       "        require.undef(\"plotly\");\n",
       "        requirejs.config({\n",
       "            paths: {\n",
       "                'plotly': ['https://cdn.plot.ly/plotly-2.12.1.min']\n",
       "            }\n",
       "        });\n",
       "        require(['plotly'], function(Plotly) {\n",
       "            window._Plotly = Plotly;\n",
       "        });\n",
       "        }\n",
       "        </script>\n",
       "        "
      ]
     },
     "metadata": {},
     "output_type": "display_data"
    },
    {
     "data": {
      "text/html": [
       "        <script type=\"text/javascript\">\n",
       "        window.PlotlyConfig = {MathJaxConfig: 'local'};\n",
       "        if (window.MathJax && window.MathJax.Hub && window.MathJax.Hub.Config) {window.MathJax.Hub.Config({SVG: {font: \"STIX-Web\"}});}\n",
       "        if (typeof require !== 'undefined') {\n",
       "        require.undef(\"plotly\");\n",
       "        requirejs.config({\n",
       "            paths: {\n",
       "                'plotly': ['https://cdn.plot.ly/plotly-2.12.1.min']\n",
       "            }\n",
       "        });\n",
       "        require(['plotly'], function(Plotly) {\n",
       "            window._Plotly = Plotly;\n",
       "        });\n",
       "        }\n",
       "        </script>\n",
       "        "
      ]
     },
     "metadata": {},
     "output_type": "display_data"
    }
   ],
   "source": [
    "# libraries for EDA\n",
    "import numpy as np\n",
    "import pandas as pd\n",
    "import matplotlib.pyplot as plt\n",
    "import seaborn as sns\n",
    "import plotly.express as px\n",
    "import cufflinks as cf\n",
    "#Enabling the offline mode for interactive plotting locally\n",
    "from plotly.offline import download_plotlyjs, init_notebook_mode, plot, iplot\n",
    "\n",
    "init_notebook_mode(connected=True)\n",
    "cf.go_offline()\n",
    "\n",
    "#To display the plots\n",
    "%matplotlib inline\n",
    "from ipywidgets import interact\n",
    "import plotly.io as pio\n",
    "\n",
    "pio.renderers.default = \"notebook\"\n",
    "\n",
    "# sklearn library for machine learning algorithms, data preprocessing, and evaluation\n",
    "from sklearn.preprocessing import StandardScaler, MinMaxScaler, RobustScaler\n",
    "from sklearn.model_selection import train_test_split, GridSearchCV, cross_validate\n",
    "from sklearn.neighbors import KNeighborsClassifier\n",
    "from sklearn.linear_model import LogisticRegression\n",
    "from sklearn.metrics import classification_report, confusion_matrix, log_loss, recall_score, accuracy_score, precision_score, f1_score\n",
    "\n",
    "# yellowbrick library for visualizing the model performance\n",
    "from yellowbrick.classifier import ConfusionMatrix\n",
    "from yellowbrick.cluster import KElbowVisualizer\n",
    "\n",
    "from sklearn.pipeline import Pipeline\n",
    "# to get rid of the warnings\n",
    "import warnings\n",
    "\n",
    "warnings.filterwarnings(\"ignore\")\n",
    "warnings.warn(\"this will not show\")"
   ]
  },
  {
   "cell_type": "markdown",
   "id": "946ee002",
   "metadata": {},
   "source": [
    "# Ingest Data"
   ]
  },
  {
   "cell_type": "code",
   "execution_count": 2,
   "id": "e4b613b1",
   "metadata": {
    "ExecuteTime": {
     "end_time": "2022-08-27T21:57:32.256378Z",
     "start_time": "2022-08-27T21:57:32.196474Z"
    }
   },
   "outputs": [],
   "source": [
    "bird_df = pd.read_csv(\"birds.csv\")"
   ]
  },
  {
   "cell_type": "code",
   "execution_count": 3,
   "id": "305728a5",
   "metadata": {
    "ExecuteTime": {
     "end_time": "2022-08-27T21:57:32.288084Z",
     "start_time": "2022-08-27T21:57:32.258375Z"
    }
   },
   "outputs": [
    {
     "data": {
      "text/html": [
       "<div>\n",
       "<style scoped>\n",
       "    .dataframe tbody tr th:only-of-type {\n",
       "        vertical-align: middle;\n",
       "    }\n",
       "\n",
       "    .dataframe tbody tr th {\n",
       "        vertical-align: top;\n",
       "    }\n",
       "\n",
       "    .dataframe thead th {\n",
       "        text-align: right;\n",
       "    }\n",
       "</style>\n",
       "<table border=\"1\" class=\"dataframe\">\n",
       "  <thead>\n",
       "    <tr style=\"text-align: right;\">\n",
       "      <th></th>\n",
       "      <th>opid</th>\n",
       "      <th>operator</th>\n",
       "      <th>atype</th>\n",
       "      <th>remarks</th>\n",
       "      <th>phase_of_flt</th>\n",
       "      <th>ac_mass</th>\n",
       "      <th>num_engs</th>\n",
       "      <th>date</th>\n",
       "      <th>time_of_day</th>\n",
       "      <th>state</th>\n",
       "      <th>height</th>\n",
       "      <th>speed</th>\n",
       "      <th>effect</th>\n",
       "      <th>sky</th>\n",
       "      <th>species</th>\n",
       "      <th>birds_seen</th>\n",
       "      <th>birds_struck</th>\n",
       "    </tr>\n",
       "  </thead>\n",
       "  <tbody>\n",
       "    <tr>\n",
       "      <th>0</th>\n",
       "      <td>AAL</td>\n",
       "      <td>AMERICAN AIRLINES</td>\n",
       "      <td>MD-80</td>\n",
       "      <td>NO DAMAGE</td>\n",
       "      <td>Descent</td>\n",
       "      <td>4.0</td>\n",
       "      <td>2.0</td>\n",
       "      <td>9/30/1990 0:00:00</td>\n",
       "      <td>Night</td>\n",
       "      <td>IL</td>\n",
       "      <td>7000.0</td>\n",
       "      <td>250.0</td>\n",
       "      <td>NaN</td>\n",
       "      <td>No Cloud</td>\n",
       "      <td>UNKNOWN BIRD - MEDIUM</td>\n",
       "      <td>NaN</td>\n",
       "      <td>1</td>\n",
       "    </tr>\n",
       "    <tr>\n",
       "      <th>1</th>\n",
       "      <td>USA</td>\n",
       "      <td>US AIRWAYS</td>\n",
       "      <td>FK-28-4000</td>\n",
       "      <td>2 BIRDS, NO DAMAGE.</td>\n",
       "      <td>Climb</td>\n",
       "      <td>4.0</td>\n",
       "      <td>2.0</td>\n",
       "      <td>11/29/1993 0:00:00</td>\n",
       "      <td>Day</td>\n",
       "      <td>MD</td>\n",
       "      <td>10.0</td>\n",
       "      <td>140.0</td>\n",
       "      <td>None</td>\n",
       "      <td>No Cloud</td>\n",
       "      <td>UNKNOWN BIRD - MEDIUM</td>\n",
       "      <td>2-10</td>\n",
       "      <td>2-10</td>\n",
       "    </tr>\n",
       "    <tr>\n",
       "      <th>2</th>\n",
       "      <td>AAL</td>\n",
       "      <td>AMERICAN AIRLINES</td>\n",
       "      <td>B-727-200</td>\n",
       "      <td>NaN</td>\n",
       "      <td>Approach</td>\n",
       "      <td>4.0</td>\n",
       "      <td>3.0</td>\n",
       "      <td>8/13/1993 0:00:00</td>\n",
       "      <td>Day</td>\n",
       "      <td>TN</td>\n",
       "      <td>400.0</td>\n",
       "      <td>140.0</td>\n",
       "      <td>None</td>\n",
       "      <td>Some Cloud</td>\n",
       "      <td>UNKNOWN BIRD - SMALL</td>\n",
       "      <td>2-10</td>\n",
       "      <td>1</td>\n",
       "    </tr>\n",
       "    <tr>\n",
       "      <th>3</th>\n",
       "      <td>AAL</td>\n",
       "      <td>AMERICAN AIRLINES</td>\n",
       "      <td>MD-82</td>\n",
       "      <td>NaN</td>\n",
       "      <td>Climb</td>\n",
       "      <td>4.0</td>\n",
       "      <td>2.0</td>\n",
       "      <td>10/7/1993 0:00:00</td>\n",
       "      <td>Day</td>\n",
       "      <td>VA</td>\n",
       "      <td>100.0</td>\n",
       "      <td>200.0</td>\n",
       "      <td>None</td>\n",
       "      <td>Overcast</td>\n",
       "      <td>UNKNOWN BIRD - SMALL</td>\n",
       "      <td>NaN</td>\n",
       "      <td>1</td>\n",
       "    </tr>\n",
       "    <tr>\n",
       "      <th>4</th>\n",
       "      <td>AAL</td>\n",
       "      <td>AMERICAN AIRLINES</td>\n",
       "      <td>MD-82</td>\n",
       "      <td>NO DAMAGE</td>\n",
       "      <td>Climb</td>\n",
       "      <td>4.0</td>\n",
       "      <td>2.0</td>\n",
       "      <td>9/25/1993 0:00:00</td>\n",
       "      <td>Day</td>\n",
       "      <td>SC</td>\n",
       "      <td>50.0</td>\n",
       "      <td>170.0</td>\n",
       "      <td>None</td>\n",
       "      <td>Some Cloud</td>\n",
       "      <td>UNKNOWN BIRD - SMALL</td>\n",
       "      <td>2-10</td>\n",
       "      <td>1</td>\n",
       "    </tr>\n",
       "  </tbody>\n",
       "</table>\n",
       "</div>"
      ],
      "text/plain": [
       "  opid           operator       atype              remarks phase_of_flt  \\\n",
       "0  AAL  AMERICAN AIRLINES       MD-80            NO DAMAGE      Descent   \n",
       "1  USA         US AIRWAYS  FK-28-4000  2 BIRDS, NO DAMAGE.        Climb   \n",
       "2  AAL  AMERICAN AIRLINES   B-727-200                  NaN     Approach   \n",
       "3  AAL  AMERICAN AIRLINES       MD-82                  NaN        Climb   \n",
       "4  AAL  AMERICAN AIRLINES       MD-82            NO DAMAGE        Climb   \n",
       "\n",
       "   ac_mass  num_engs                date time_of_day state  height  speed  \\\n",
       "0      4.0       2.0   9/30/1990 0:00:00       Night    IL  7000.0  250.0   \n",
       "1      4.0       2.0  11/29/1993 0:00:00         Day    MD    10.0  140.0   \n",
       "2      4.0       3.0   8/13/1993 0:00:00         Day    TN   400.0  140.0   \n",
       "3      4.0       2.0   10/7/1993 0:00:00         Day    VA   100.0  200.0   \n",
       "4      4.0       2.0   9/25/1993 0:00:00         Day    SC    50.0  170.0   \n",
       "\n",
       "  effect         sky                species birds_seen birds_struck  \n",
       "0    NaN    No Cloud  UNKNOWN BIRD - MEDIUM        NaN            1  \n",
       "1   None    No Cloud  UNKNOWN BIRD - MEDIUM       2-10         2-10  \n",
       "2   None  Some Cloud   UNKNOWN BIRD - SMALL       2-10            1  \n",
       "3   None    Overcast   UNKNOWN BIRD - SMALL        NaN            1  \n",
       "4   None  Some Cloud   UNKNOWN BIRD - SMALL       2-10            1  "
      ]
     },
     "execution_count": 3,
     "metadata": {},
     "output_type": "execute_result"
    }
   ],
   "source": [
    "bird_df.head()"
   ]
  },
  {
   "cell_type": "markdown",
   "id": "7faf02ac",
   "metadata": {},
   "source": [
    "# EDA "
   ]
  },
  {
   "cell_type": "code",
   "execution_count": 4,
   "id": "ca76e5f5",
   "metadata": {
    "ExecuteTime": {
     "end_time": "2022-08-27T21:57:32.303850Z",
     "start_time": "2022-08-27T21:57:32.289059Z"
    }
   },
   "outputs": [],
   "source": [
    "df = bird_df.copy()"
   ]
  },
  {
   "cell_type": "code",
   "execution_count": 5,
   "id": "93b15ce7",
   "metadata": {
    "ExecuteTime": {
     "end_time": "2022-08-27T21:57:32.318832Z",
     "start_time": "2022-08-27T21:57:32.304847Z"
    }
   },
   "outputs": [
    {
     "data": {
      "text/plain": [
       "(19302, 17)"
      ]
     },
     "execution_count": 5,
     "metadata": {},
     "output_type": "execute_result"
    }
   ],
   "source": [
    "df.shape"
   ]
  },
  {
   "cell_type": "code",
   "execution_count": 6,
   "id": "3006258f",
   "metadata": {
    "ExecuteTime": {
     "end_time": "2022-08-27T21:57:32.365323Z",
     "start_time": "2022-08-27T21:57:32.320528Z"
    }
   },
   "outputs": [
    {
     "name": "stdout",
     "output_type": "stream",
     "text": [
      "<class 'pandas.core.frame.DataFrame'>\n",
      "RangeIndex: 19302 entries, 0 to 19301\n",
      "Data columns (total 17 columns):\n",
      " #   Column        Non-Null Count  Dtype  \n",
      "---  ------        --------------  -----  \n",
      " 0   opid          19302 non-null  object \n",
      " 1   operator      19302 non-null  object \n",
      " 2   atype         19302 non-null  object \n",
      " 3   remarks       16516 non-null  object \n",
      " 4   phase_of_flt  17519 non-null  object \n",
      " 5   ac_mass       18018 non-null  float64\n",
      " 6   num_engs      17995 non-null  float64\n",
      " 7   date          19302 non-null  object \n",
      " 8   time_of_day   17225 non-null  object \n",
      " 9   state         18431 non-null  object \n",
      " 10  height        16109 non-null  float64\n",
      " 11  speed         12294 non-null  float64\n",
      " 12  effect        13584 non-null  object \n",
      " 13  sky           15723 non-null  object \n",
      " 14  species       19302 non-null  object \n",
      " 15  birds_seen    4764 non-null   object \n",
      " 16  birds_struck  19263 non-null  object \n",
      "dtypes: float64(4), object(13)\n",
      "memory usage: 2.5+ MB\n"
     ]
    }
   ],
   "source": [
    "df.info()"
   ]
  },
  {
   "cell_type": "markdown",
   "id": "c12b4973",
   "metadata": {},
   "source": [
    "* may be I can change numerical values into integers to improve performance\n",
    "* some feature like \"operator\" and \"opid\" yield same thing so I will drop them"
   ]
  },
  {
   "cell_type": "code",
   "execution_count": 7,
   "id": "d1f7b4b4",
   "metadata": {
    "ExecuteTime": {
     "end_time": "2022-08-27T21:57:32.413235Z",
     "start_time": "2022-08-27T21:57:32.367319Z"
    }
   },
   "outputs": [],
   "source": [
    "df.dropna(how=\"all\", inplace=True)"
   ]
  },
  {
   "cell_type": "code",
   "execution_count": 24,
   "id": "11f1d907",
   "metadata": {
    "ExecuteTime": {
     "end_time": "2022-08-27T22:03:44.323771Z",
     "start_time": "2022-08-27T22:03:44.312887Z"
    }
   },
   "outputs": [],
   "source": [
    "def missing_perct(df, print_it = False):\n",
    "    if print_it:\n",
    "        print(round((df.isnull().sum()/df.shape[0]*100), 2))\n",
    "    return round((df.isnull().sum()/df.shape[0]*100), 2)"
   ]
  },
  {
   "cell_type": "code",
   "execution_count": 26,
   "id": "a8d2eeca",
   "metadata": {
    "ExecuteTime": {
     "end_time": "2022-08-27T22:04:50.512527Z",
     "start_time": "2022-08-27T22:04:50.426085Z"
    }
   },
   "outputs": [
    {
     "data": {
      "text/plain": [
       "opid             0.00\n",
       "operator         0.00\n",
       "atype            0.00\n",
       "remarks         18.27\n",
       "phase_of_flt     3.52\n",
       "ac_mass          2.06\n",
       "num_engs         2.17\n",
       "date             0.00\n",
       "time_of_day      3.31\n",
       "state            4.36\n",
       "height          10.51\n",
       "speed           29.09\n",
       "effect           0.00\n",
       "sky             11.40\n",
       "species          0.00\n",
       "birds_seen      70.82\n",
       "birds_struck     0.26\n",
       "dtype: float64"
      ]
     },
     "execution_count": 26,
     "metadata": {},
     "output_type": "execute_result"
    }
   ],
   "source": [
    "missing_perct(df,print_it=False)"
   ]
  },
  {
   "cell_type": "markdown",
   "id": "aa4e3796",
   "metadata": {},
   "source": [
    "* Dataset has some features with high number of missing values, I will try to impute them if they have up until 40 percent."
   ]
  },
  {
   "cell_type": "code",
   "execution_count": 10,
   "id": "b09cbc41",
   "metadata": {
    "ExecuteTime": {
     "end_time": "2022-08-27T21:57:32.521216Z",
     "start_time": "2022-08-27T21:57:32.477333Z"
    }
   },
   "outputs": [
    {
     "data": {
      "text/html": [
       "<div>\n",
       "<style scoped>\n",
       "    .dataframe tbody tr th:only-of-type {\n",
       "        vertical-align: middle;\n",
       "    }\n",
       "\n",
       "    .dataframe tbody tr th {\n",
       "        vertical-align: top;\n",
       "    }\n",
       "\n",
       "    .dataframe thead th {\n",
       "        text-align: right;\n",
       "    }\n",
       "</style>\n",
       "<table border=\"1\" class=\"dataframe\">\n",
       "  <thead>\n",
       "    <tr style=\"text-align: right;\">\n",
       "      <th></th>\n",
       "      <th>opid</th>\n",
       "      <th>operator</th>\n",
       "      <th>atype</th>\n",
       "      <th>remarks</th>\n",
       "      <th>phase_of_flt</th>\n",
       "      <th>ac_mass</th>\n",
       "      <th>num_engs</th>\n",
       "      <th>date</th>\n",
       "      <th>time_of_day</th>\n",
       "      <th>state</th>\n",
       "      <th>height</th>\n",
       "      <th>speed</th>\n",
       "      <th>effect</th>\n",
       "      <th>sky</th>\n",
       "      <th>species</th>\n",
       "      <th>birds_seen</th>\n",
       "      <th>birds_struck</th>\n",
       "    </tr>\n",
       "  </thead>\n",
       "  <tbody>\n",
       "    <tr>\n",
       "      <th>8715</th>\n",
       "      <td>ABX</td>\n",
       "      <td>ABX AIR (was AIRBORNE EXPRESS)</td>\n",
       "      <td>DC-9-40</td>\n",
       "      <td>NaN</td>\n",
       "      <td>En Route</td>\n",
       "      <td>4.0</td>\n",
       "      <td>2.0</td>\n",
       "      <td>10/13/1994 0:00:00</td>\n",
       "      <td>Night</td>\n",
       "      <td>NaN</td>\n",
       "      <td>NaN</td>\n",
       "      <td>NaN</td>\n",
       "      <td>None</td>\n",
       "      <td>NaN</td>\n",
       "      <td>UNKNOWN BIRD</td>\n",
       "      <td>NaN</td>\n",
       "      <td>1</td>\n",
       "    </tr>\n",
       "    <tr>\n",
       "      <th>14090</th>\n",
       "      <td>UNK</td>\n",
       "      <td>UNKNOWN</td>\n",
       "      <td>UNKNOWN</td>\n",
       "      <td>NaN</td>\n",
       "      <td>NaN</td>\n",
       "      <td>NaN</td>\n",
       "      <td>NaN</td>\n",
       "      <td>10/12/1996 0:00:00</td>\n",
       "      <td>NaN</td>\n",
       "      <td>IL</td>\n",
       "      <td>NaN</td>\n",
       "      <td>NaN</td>\n",
       "      <td>NaN</td>\n",
       "      <td>NaN</td>\n",
       "      <td>RING-BILLED GULL</td>\n",
       "      <td>NaN</td>\n",
       "      <td>1</td>\n",
       "    </tr>\n",
       "  </tbody>\n",
       "</table>\n",
       "</div>"
      ],
      "text/plain": [
       "      opid                        operator    atype remarks phase_of_flt  \\\n",
       "8715   ABX  ABX AIR (was AIRBORNE EXPRESS)  DC-9-40     NaN     En Route   \n",
       "14090  UNK                         UNKNOWN  UNKNOWN     NaN          NaN   \n",
       "\n",
       "       ac_mass  num_engs                date time_of_day state  height  speed  \\\n",
       "8715       4.0       2.0  10/13/1994 0:00:00       Night   NaN     NaN    NaN   \n",
       "14090      NaN       NaN  10/12/1996 0:00:00         NaN    IL     NaN    NaN   \n",
       "\n",
       "      effect  sky           species birds_seen birds_struck  \n",
       "8715    None  NaN      UNKNOWN BIRD        NaN            1  \n",
       "14090    NaN  NaN  RING-BILLED GULL        NaN            1  "
      ]
     },
     "execution_count": 10,
     "metadata": {},
     "output_type": "execute_result"
    }
   ],
   "source": [
    "df.loc[df.duplicated()]"
   ]
  },
  {
   "cell_type": "markdown",
   "id": "1803bf8f",
   "metadata": {},
   "source": [
    "* 2 duplicated value, we should get rid of those for better analysis"
   ]
  },
  {
   "cell_type": "code",
   "execution_count": 11,
   "id": "da6cc432",
   "metadata": {
    "ExecuteTime": {
     "end_time": "2022-08-27T21:57:32.567281Z",
     "start_time": "2022-08-27T21:57:32.523210Z"
    }
   },
   "outputs": [],
   "source": [
    "df.drop_duplicates(inplace=True)\n",
    "df.reset_index(drop=True, inplace=True)"
   ]
  },
  {
   "cell_type": "markdown",
   "id": "7508e01f",
   "metadata": {},
   "source": [
    "## Investigate the columns "
   ]
  },
  {
   "cell_type": "code",
   "execution_count": 12,
   "id": "b55b99be",
   "metadata": {
    "ExecuteTime": {
     "end_time": "2022-08-27T21:57:32.582216Z",
     "start_time": "2022-08-27T21:57:32.569275Z"
    }
   },
   "outputs": [],
   "source": [
    "def first_look(df, col):\n",
    "    print(\"Column name:\"+col)\n",
    "    print(f\"Value Counts \\n{df[col].value_counts(dropna=False)}\\n\"+\"*+\"*30)\n",
    "    \n",
    "    "
   ]
  },
  {
   "cell_type": "code",
   "execution_count": 14,
   "id": "3f038835",
   "metadata": {
    "ExecuteTime": {
     "end_time": "2022-08-27T21:57:32.645324Z",
     "start_time": "2022-08-27T21:57:32.599145Z"
    }
   },
   "outputs": [
    {
     "name": "stdout",
     "output_type": "stream",
     "text": [
      "Column name:opid\n",
      "Value Counts \n",
      "AAL    3139\n",
      "BUS    2443\n",
      "USA    1836\n",
      "UNK    1613\n",
      "SWA    1096\n",
      "       ... \n",
      "AVQ       1\n",
      "RGS       1\n",
      "LSY       1\n",
      "PAH       1\n",
      "AAR       1\n",
      "Name: opid, Length: 285, dtype: int64\n",
      "*+*+*+*+*+*+*+*+*+*+*+*+*+*+*+*+*+*+*+*+*+*+*+*+*+*+*+*+*+*+\n",
      "Column name:operator\n",
      "Value Counts \n",
      "AMERICAN AIRLINES     3139\n",
      "BUSINESS              2443\n",
      "US AIRWAYS            1836\n",
      "UNKNOWN               1613\n",
      "SOUTHWEST AIRLINES    1096\n",
      "                      ... \n",
      "AVIATION SERVICES        1\n",
      "RENOWN AVIATION          1\n",
      "LINDSAY AVIATION         1\n",
      "PANORAMA AIR TOUR        1\n",
      "ASIANA AIRLINES          1\n",
      "Name: operator, Length: 285, dtype: int64\n",
      "*+*+*+*+*+*+*+*+*+*+*+*+*+*+*+*+*+*+*+*+*+*+*+*+*+*+*+*+*+*+\n",
      "Column name:atype\n",
      "Value Counts \n",
      "B-737-300      1328\n",
      "UNKNOWN        1252\n",
      "MD-80          1058\n",
      "B-737-200      1030\n",
      "B-727           854\n",
      "               ... \n",
      "CONVAIR 640       1\n",
      "B-747-300         1\n",
      "C-404             1\n",
      "BE-80 QUEEN       1\n",
      "HUGHES 300        1\n",
      "Name: atype, Length: 284, dtype: int64\n",
      "*+*+*+*+*+*+*+*+*+*+*+*+*+*+*+*+*+*+*+*+*+*+*+*+*+*+*+*+*+*+\n",
      "Column name:remarks\n",
      "Value Counts \n",
      "NaN                                                                                                                                                                                                                                                                                                                                                                                                                                                                                                                                                                                                                                                                                                                                                                                                                                                                                                                                                                                                                                                                                                                                                                                                                                                                                                                                                                                                                                                                                                                                                                                                                                                                                                                                                                                                                    2784\n",
      "NO DAMAGE                                                                                                                                                                                                                                                                                                                                                                                                                                                                                                                                                                                                                                                                                                                                                                                                                                                                                                                                                                                                                                                                                                                                                                                                                                                                                                                                                                                                                                                                                                                                                                                                                                                                                                                                                                                                               829\n",
      "NO DAMAGE.                                                                                                                                                                                                                                                                                                                                                                                                                                                                                                                                                                                                                                                                                                                                                                                                                                                                                                                                                                                                                                                                                                                                                                                                                                                                                                                                                                                                                                                                                                                                                                                                                                                                                                                                                                                                              693\n",
      "NO DAMAGE/INJURY                                                                                                                                                                                                                                                                                                                                                                                                                                                                                                                                                                                                                                                                                                                                                                                                                                                                                                                                                                                                                                                                                                                                                                                                                                                                                                                                                                                                                                                                                                                                                                                                                                                                                                                                                                                                        236\n",
      "NO DAMAGE/INJURY.                                                                                                                                                                                                                                                                                                                                                                                                                                                                                                                                                                                                                                                                                                                                                                                                                                                                                                                                                                                                                                                                                                                                                                                                                                                                                                                                                                                                                                                                                                                                                                                                                                                                                                                                                                                                       177\n",
      "                                                                                                                                                                                                                                                                                                                                                                                                                                                                                                                                                                                                                                                                                                                                                                                                                                                                                                                                                                                                                                                                                                                                                                                                                                                                                                                                                                                                                                                                                                                                                                                                                                                                                                                                                                                                                       ... \n",
      "GULL OR DUCK STRUCK LEFT SIDE OF A/C WINDSHIELD, DESTROYING  APPROX. 2/3 OF PLEXIGLASS. A/C LANDED WITHOUT FURTHER INCIDENT.  PILOT BASED AT LE SUEUR APT                                                                                                                                                                                                                                                                                                                                                                                                                                                                                                                                                                                                                                                                                                                                                                                                                                                                                                                                                                                                                                                                                                                                                                                                                                                                                                                                                                                                                                                                                                                                                                                                                                                                 1\n",
      " DEPTD MCI FOR MHK. REQST EMERGENCY EQUIP. TO STANDBY AT FOE. DAMAGE RESULTED IN CONTROL AND YAW PROBLEMS.  LANDED W/O  INCIDENT.  SUBSTANTIAL DAMAGE.                                                                                                                                                                                                                                                                                                                                                                                                                                                                                                                                                                                                                                                                                                                                                                                                                                                                                                                                                                                                                                                                                                                                                                                                                                                                                                                                                                                                                                                                                                                                                                                                                                                                    1\n",
      "CLEANED & INSPCTD AREA.  NO DAMAGE FOUND.                                                                                                                                                                                                                                                                                                                                                                                                                                                                                                                                                                                                                                                                                                                                                                                                                                                                                                                                                                                                                                                                                                                                                                                                                                                                                                                                                                                                                                                                                                                                                                                                                                                                                                                                                                                 1\n",
      "NO DAMAGE. A/C WAS TURNING BASE                                                                                                                                                                                                                                                                                                                                                                                                                                                                                                                                                                                                                                                                                                                                                                                                                                                                                                                                                                                                                                                                                                                                                                                                                                                                                                                                                                                                                                                                                                                                                                                                                                                                                                                                                                                           1\n",
      "I LOOKED UP JUST INTIME TO SEE A BIRD ABOUT 50' ABOVE MY FLIGHT  PATH & SEVERAL HUNDRED FEET AHEAD. DID OT HAVE TIME TO DETERMINE  ITS DIRECTION OF FLIGHT OR WHICH WAY I COULD TURN TO AVOID IT.   PROBABLY LESS THAN 2 SECONDS BETWEN SIGHT & IMPACT. JUST BEFORE  IMPACT, BIRD WINGED OVER AND DOVE DOWN, STRIKING THE CANOPY HEAD-ON. INSTANT EXPLOSION/IMPLOSION? THE CANOPY SHATTERED & COMPLETELY MISSING FROM MY HEAD FWD. FROM MY HEAD BACK, CANOPY INTACT. DEBRIS KNOCKED MY HEADSET OFF & GAVE ME A FAT LIP. BIRD ENDED UP IN BACK  SEAT. MY GLASSES WERE UNDISTURBED. HEADED FOR ARPT 8 MILES AWAY.   A/C FLEW FINE & NORMAL LDG MADE. PROP WAS TOTALED. CHUNK MISSING FROM EACH BLADE & 1 BLADE HAD A SPLIT FROM TIP TWD CENTER ABOUT 10\" LONG. BIRDS HEAD WAS MISSING & PROBABLY WENT THRU THE PROP.  LEADING EDGES OF PROP WERE CHEWED UP BY CANOPY FRAGMENTS. THE WEBFOOTED BIRD (DUCK?) WEIGHED 1.5 LBS.,,,,,,GARY SPENCER,PILOT,,Other,Pilot,,,3/24/1998 0:00:00,0,1\\n68474,JAL,JAPAN AIRLINES,B-747-400,148,34,22,07,A,5,4,D,1,1,1,1,JA8088,,0,0,6/17/1998 0:00:00,6,1998,Dawn,,KMWH,GRANT COUNTY ARPT,WA,ANM,,32R,,0,120,0.00,Take-off run,N,0,0,0,0,0,0,1,0,0,0,0,0,0,0,0,0,0,0,0,0,0,0,0,0,0,0,0,1,0,,None,,No Cloud,None,UNKBS,UNKNOWN BIRD - SMALL,2-10,1,Small,N,SOURCE = TWO xxxx-x REPTS,TWO REPTS DIFFER ON PART STRUCK 1 SAYS ENG THE OTHER SAYS LIE  FLAP OR UE FLAP.,,,,,,AKIRA NAKAGAWA & S KIMURA,JAL MWH TRNG CNRT CAPT & CAPT,6/17/1998 0:00:00,FAA Form 5200-7,Pilot,,,8/21/1998 0:00:00,0,0\\n68475,TWA,TRANS WORLD AIRLINES,DC-9-10,583,19,34,10,A,4,2,D,5,5,,,N9732,,0,0,6/17/1998 0:00:00,6,1998,Day,1015,UNK,UNKNOWN,,,,,FOUND AT KCID,,,,,M,0,0,0,0,0,0,0,0,0,0,0,0,0,0,0,0,0,1,1,0,0,0,0,0,0,0,0,0,0,,None,,Some Cloud,None,UNKB,UNKNOWN BIRD,,1,,,,DAMAG TO L WING FENCE       1\n",
      "Name: remarks, Length: 13737, dtype: int64\n",
      "*+*+*+*+*+*+*+*+*+*+*+*+*+*+*+*+*+*+*+*+*+*+*+*+*+*+*+*+*+*+\n",
      "Column name:phase_of_flt\n",
      "Value Counts \n",
      "Approach        6470\n",
      "Take-off run    3506\n",
      "Climb           3222\n",
      "Landing Roll    3047\n",
      "NaN             1782\n",
      "Descent          599\n",
      "En Route         584\n",
      "Taxi              79\n",
      "Parked            11\n",
      "Name: phase_of_flt, dtype: int64\n",
      "*+*+*+*+*+*+*+*+*+*+*+*+*+*+*+*+*+*+*+*+*+*+*+*+*+*+*+*+*+*+\n",
      "Column name:ac_mass\n",
      "Value Counts \n",
      "4.0    11374\n",
      "3.0     2861\n",
      "2.0     1933\n",
      "1.0     1655\n",
      "NaN     1283\n",
      "5.0      194\n",
      "Name: ac_mass, dtype: int64\n",
      "*+*+*+*+*+*+*+*+*+*+*+*+*+*+*+*+*+*+*+*+*+*+*+*+*+*+*+*+*+*+\n",
      "Column name:num_engs\n",
      "Value Counts \n",
      "2.0    13816\n",
      "3.0     2048\n",
      "1.0     1526\n",
      "NaN     1306\n",
      "4.0      604\n",
      "Name: num_engs, dtype: int64\n",
      "*+*+*+*+*+*+*+*+*+*+*+*+*+*+*+*+*+*+*+*+*+*+*+*+*+*+*+*+*+*+\n",
      "Column name:date\n",
      "Value Counts \n",
      "10/25/1995 0:00:00    26\n",
      "10/24/1990 0:00:00    25\n",
      "9/18/1997 0:00:00     24\n",
      "8/21/1997 0:00:00     24\n",
      "9/26/1993 0:00:00     22\n",
      "                      ..\n",
      "1/30/1995 0:00:00      1\n",
      "11/26/1993 0:00:00     1\n",
      "12/1/1990 0:00:00      1\n",
      "3/29/1992 0:00:00      1\n",
      "8/17/1998 0:00:00      1\n",
      "Name: date, Length: 3186, dtype: int64\n",
      "*+*+*+*+*+*+*+*+*+*+*+*+*+*+*+*+*+*+*+*+*+*+*+*+*+*+*+*+*+*+\n",
      "Column name:time_of_day\n",
      "Value Counts \n",
      "Day      11170\n",
      "Night     4536\n",
      "NaN       2076\n",
      "Dusk       878\n",
      "Dawn       640\n",
      "Name: time_of_day, dtype: int64\n",
      "*+*+*+*+*+*+*+*+*+*+*+*+*+*+*+*+*+*+*+*+*+*+*+*+*+*+*+*+*+*+\n",
      "Column name:state\n",
      "Value Counts \n",
      "CA     1762\n",
      "TX     1573\n",
      "FL     1533\n",
      "NY     1274\n",
      "IL     1062\n",
      "PA      934\n",
      "NaN     870\n",
      "NJ      621\n",
      "OH      551\n",
      "TN      513\n",
      "KY      509\n",
      "NC      508\n",
      "DC      496\n",
      "LA      470\n",
      "VA      432\n",
      "GA      412\n",
      "HI      405\n",
      "MI      394\n",
      "WA      341\n",
      "MO      340\n",
      "CT      292\n",
      "MA      289\n",
      "AL      256\n",
      "MD      249\n",
      "OR      245\n",
      "CO      241\n",
      "WI      220\n",
      "UT      203\n",
      "IN      201\n",
      "NE      200\n",
      "MN      163\n",
      "AK      162\n",
      "IA      160\n",
      "OK      151\n",
      "AZ      137\n",
      "AR      120\n",
      "SC      104\n",
      "ME       96\n",
      "WV       95\n",
      "NV       95\n",
      "MS       93\n",
      "NH       66\n",
      "RI       57\n",
      "KS       56\n",
      "ID       49\n",
      "NM       41\n",
      "ND       36\n",
      "PR       33\n",
      "SD       30\n",
      "MT       30\n",
      "VI       24\n",
      "ON       23\n",
      "VT       17\n",
      "DE       14\n",
      "QC       13\n",
      "BC       13\n",
      "WY       12\n",
      "AB        9\n",
      "PI        5\n",
      "Name: state, dtype: int64\n",
      "*+*+*+*+*+*+*+*+*+*+*+*+*+*+*+*+*+*+*+*+*+*+*+*+*+*+*+*+*+*+\n",
      "Column name:height\n",
      "Value Counts \n",
      "0.0        6641\n",
      "NaN        3191\n",
      "100.0       872\n",
      "50.0        803\n",
      "200.0       636\n",
      "           ... \n",
      "17500.0       1\n",
      "220.0         1\n",
      "1050.0        1\n",
      "2150.0        1\n",
      "1474.0        1\n",
      "Name: height, Length: 298, dtype: int64\n",
      "*+*+*+*+*+*+*+*+*+*+*+*+*+*+*+*+*+*+*+*+*+*+*+*+*+*+*+*+*+*+\n",
      "Column name:speed\n",
      "Value Counts \n",
      "NaN      7006\n",
      "140.0    1395\n",
      "120.0    1102\n",
      "130.0    1091\n",
      "100.0     906\n",
      "         ... \n",
      "159.0       1\n",
      "350.0       1\n",
      "89.0        1\n",
      "28.0        1\n",
      "173.0       1\n",
      "Name: speed, Length: 159, dtype: int64\n",
      "*+*+*+*+*+*+*+*+*+*+*+*+*+*+*+*+*+*+*+*+*+*+*+*+*+*+*+*+*+*+\n",
      "Column name:effect\n",
      "Value Counts \n",
      "None                     11610\n",
      "NaN                       5717\n",
      "Precautionary Landing      965\n",
      "Aborted Take-off           544\n",
      "Other                      348\n",
      "Engine Shut Down           116\n",
      "Name: effect, dtype: int64\n",
      "*+*+*+*+*+*+*+*+*+*+*+*+*+*+*+*+*+*+*+*+*+*+*+*+*+*+*+*+*+*+\n",
      "Column name:sky\n",
      "Value Counts \n",
      "No Cloud      7113\n",
      "Some Cloud    5254\n",
      "NaN           3577\n",
      "Overcast      3356\n",
      "Name: sky, dtype: int64\n",
      "*+*+*+*+*+*+*+*+*+*+*+*+*+*+*+*+*+*+*+*+*+*+*+*+*+*+*+*+*+*+\n",
      "Column name:species\n",
      "Value Counts \n",
      "UNKNOWN BIRD - SMALL       4156\n",
      "UNKNOWN BIRD               2986\n",
      "GULLS                      2563\n",
      "UNKNOWN BIRD - MEDIUM      2074\n",
      "SPARROWS                    694\n",
      "                           ... \n",
      "FOX SPARROW                   1\n",
      "GOLDEN EAGLE                  1\n",
      "NORTHERN PARULA WARBLER       1\n",
      "GREATER SCAUP                 1\n",
      "LONG-BILLED DOWITCHER         1\n",
      "Name: species, Length: 241, dtype: int64\n",
      "*+*+*+*+*+*+*+*+*+*+*+*+*+*+*+*+*+*+*+*+*+*+*+*+*+*+*+*+*+*+\n",
      "Column name:birds_seen\n",
      "Value Counts \n",
      "NaN       14536\n",
      "2-10       3775\n",
      "11-100      988\n",
      ":-10          1\n",
      "Name: birds_seen, dtype: int64\n",
      "*+*+*+*+*+*+*+*+*+*+*+*+*+*+*+*+*+*+*+*+*+*+*+*+*+*+*+*+*+*+\n",
      "Column name:birds_struck\n",
      "Value Counts \n",
      "1           15165\n",
      "2-10         3837\n",
      "11-100        209\n",
      "NaN            39\n",
      "0              33\n",
      "Over 100       17\n",
      "Name: birds_struck, dtype: int64\n",
      "*+*+*+*+*+*+*+*+*+*+*+*+*+*+*+*+*+*+*+*+*+*+*+*+*+*+*+*+*+*+\n"
     ]
    }
   ],
   "source": [
    "for col in df.columns:\n",
    "    first_look(df, col)"
   ]
  },
  {
   "cell_type": "markdown",
   "id": "6aedd230",
   "metadata": {
    "heading_collapsed": true
   },
   "source": [
    "### effect"
   ]
  },
  {
   "cell_type": "markdown",
   "id": "486d9da3",
   "metadata": {
    "hidden": true
   },
   "source": [
    "* This will be my target so I will drop nans if they are not obvious in some classes"
   ]
  },
  {
   "cell_type": "markdown",
   "id": "f192d21d",
   "metadata": {
    "heading_collapsed": true
   },
   "source": [
    "### opid"
   ]
  },
  {
   "cell_type": "markdown",
   "id": "c40f6b3f",
   "metadata": {
    "hidden": true
   },
   "source": [
    "* I will use that feature just for EDA and anlysis purposes, then will drop it\n",
    "* This feature has to much cardinality so it will effect may ML algorithms "
   ]
  },
  {
   "cell_type": "markdown",
   "id": "c64d0302",
   "metadata": {
    "heading_collapsed": true
   },
   "source": [
    "### operetor"
   ]
  },
  {
   "cell_type": "markdown",
   "id": "365b3e80",
   "metadata": {
    "hidden": true
   },
   "source": [
    "* This feature is identical with opid\n",
    "* Same prosess like opid"
   ]
  },
  {
   "cell_type": "markdown",
   "id": "a3afe257",
   "metadata": {
    "heading_collapsed": true
   },
   "source": [
    "###  atype"
   ]
  },
  {
   "cell_type": "markdown",
   "id": "029dd814",
   "metadata": {
    "hidden": true
   },
   "source": [
    "* I will eximine the distrubution of effect over aircraft type\n",
    "* This feature will stay as an independent variable"
   ]
  },
  {
   "cell_type": "markdown",
   "id": "e0dbfa89",
   "metadata": {
    "heading_collapsed": true
   },
   "source": [
    "### remarks"
   ]
  },
  {
   "cell_type": "markdown",
   "id": "74e71dd2",
   "metadata": {
    "hidden": true
   },
   "source": [
    "* This field is free text, I can extract feature for ML and analysis\n",
    "* For first iteration I will drop it."
   ]
  },
  {
   "cell_type": "markdown",
   "id": "790eef4c",
   "metadata": {},
   "source": [
    "### phase_of_flt "
   ]
  },
  {
   "cell_type": "markdown",
   "id": "71e9b220",
   "metadata": {},
   "source": [
    "* It has missing values. \n",
    "* I will use height to fill missing values. \n",
    "* I will check the distrubution of missing values over other features."
   ]
  },
  {
   "cell_type": "markdown",
   "id": "dd1fbaa8",
   "metadata": {
    "heading_collapsed": true
   },
   "source": [
    "### ac_mass"
   ]
  },
  {
   "cell_type": "markdown",
   "id": "7389b0ad",
   "metadata": {
    "hidden": true
   },
   "source": [
    "* It has missing values\n",
    "* I can check the atype and get the mass value for aircraft type\n",
    "* I will fill nan values with the help of atype column"
   ]
  },
  {
   "cell_type": "markdown",
   "id": "4f9919e2",
   "metadata": {
    "heading_collapsed": true
   },
   "source": [
    "### num_engs"
   ]
  },
  {
   "cell_type": "markdown",
   "id": "df640314",
   "metadata": {
    "hidden": true
   },
   "source": [
    "* It has missing values\n",
    "* I can check the atype and get the number of engines value for aircraft type\n",
    "* I will fill nan values with the help of atype column"
   ]
  },
  {
   "cell_type": "markdown",
   "id": "1c19ea81",
   "metadata": {
    "heading_collapsed": true
   },
   "source": [
    "### date"
   ]
  },
  {
   "cell_type": "markdown",
   "id": "519cc563",
   "metadata": {
    "hidden": true
   },
   "source": [
    "* I will use that column for feature extraction\n",
    "* Feature that I will create \"season\", \"month_of_the_year\""
   ]
  },
  {
   "cell_type": "markdown",
   "id": "328ea3ee",
   "metadata": {
    "heading_collapsed": true
   },
   "source": [
    "### time_of_day"
   ]
  },
  {
   "cell_type": "markdown",
   "id": "2265a1b2",
   "metadata": {
    "hidden": true
   },
   "source": [
    "* Clean column and I will use that feature as it is"
   ]
  },
  {
   "cell_type": "markdown",
   "id": "f57ee20d",
   "metadata": {
    "heading_collapsed": true
   },
   "source": [
    "### state"
   ]
  },
  {
   "cell_type": "markdown",
   "id": "6d459067",
   "metadata": {
    "hidden": true
   },
   "source": [
    "* It has high cardinality\n",
    "* I will check the bird flying routes and cluster states into 4 or 6 \n",
    "* Other option: I will use unsupervised aproach to have same num of cluster"
   ]
  },
  {
   "cell_type": "markdown",
   "id": "911f704e",
   "metadata": {
    "heading_collapsed": true
   },
   "source": [
    "### height"
   ]
  },
  {
   "cell_type": "markdown",
   "id": "0dfea4e6",
   "metadata": {
    "hidden": true
   },
   "source": [
    "* It has missing values\n",
    "* I can impute nans' via phase_of_flt "
   ]
  },
  {
   "cell_type": "markdown",
   "id": "d9a35ba7",
   "metadata": {
    "heading_collapsed": true
   },
   "source": [
    "### speed"
   ]
  },
  {
   "cell_type": "markdown",
   "id": "33d66d65",
   "metadata": {
    "hidden": true
   },
   "source": [
    "* It has missing values \n",
    "* I will impute speed with \"height\", \"phase_of_flt\",and \"atype\""
   ]
  },
  {
   "cell_type": "markdown",
   "id": "09643562",
   "metadata": {
    "heading_collapsed": true
   },
   "source": [
    "### species"
   ]
  },
  {
   "cell_type": "markdown",
   "id": "cc07953a",
   "metadata": {
    "hidden": true
   },
   "source": [
    "* I will drop down the number of categories in that column into 4"
   ]
  },
  {
   "cell_type": "markdown",
   "id": "de30e510",
   "metadata": {
    "heading_collapsed": true
   },
   "source": [
    "### birds_seen"
   ]
  },
  {
   "cell_type": "markdown",
   "id": "d0aa10e5",
   "metadata": {
    "hidden": true
   },
   "source": [
    "* I will not use that feature because I am researching, I can predict the effect of bird strike\n",
    "* Feature has no contrubituon the and state"
   ]
  },
  {
   "cell_type": "markdown",
   "id": "234c7e79",
   "metadata": {
    "heading_collapsed": true
   },
   "source": [
    "### birds_struck"
   ]
  },
  {
   "cell_type": "markdown",
   "id": "b248aa34",
   "metadata": {
    "hidden": true
   },
   "source": [
    "* This feature is crucial and it has some missing values\n",
    "* I will try to impute those values by using other features\n",
    "* I can use supervised aproach to fill"
   ]
  },
  {
   "cell_type": "markdown",
   "id": "c711c237",
   "metadata": {},
   "source": [
    "## Deal with Missing Values"
   ]
  },
  {
   "cell_type": "markdown",
   "id": "ba64d3c1",
   "metadata": {},
   "source": [
    "### Target feature : effect"
   ]
  },
  {
   "cell_type": "code",
   "execution_count": 15,
   "id": "2fd1a982",
   "metadata": {
    "ExecuteTime": {
     "end_time": "2022-08-27T21:57:32.660319Z",
     "start_time": "2022-08-27T21:57:32.647319Z"
    }
   },
   "outputs": [
    {
     "data": {
      "text/plain": [
       "None                     11610\n",
       "NaN                       5717\n",
       "Precautionary Landing      965\n",
       "Aborted Take-off           544\n",
       "Other                      348\n",
       "Engine Shut Down           116\n",
       "Name: effect, dtype: int64"
      ]
     },
     "execution_count": 15,
     "metadata": {},
     "output_type": "execute_result"
    }
   ],
   "source": [
    "df.effect.value_counts(dropna=False)"
   ]
  },
  {
   "cell_type": "code",
   "execution_count": 16,
   "id": "fb956a0f",
   "metadata": {
    "ExecuteTime": {
     "end_time": "2022-08-27T21:57:32.691442Z",
     "start_time": "2022-08-27T21:57:32.662281Z"
    }
   },
   "outputs": [
    {
     "data": {
      "text/html": [
       "<div>\n",
       "<style scoped>\n",
       "    .dataframe tbody tr th:only-of-type {\n",
       "        vertical-align: middle;\n",
       "    }\n",
       "\n",
       "    .dataframe tbody tr th {\n",
       "        vertical-align: top;\n",
       "    }\n",
       "\n",
       "    .dataframe thead th {\n",
       "        text-align: right;\n",
       "    }\n",
       "</style>\n",
       "<table border=\"1\" class=\"dataframe\">\n",
       "  <thead>\n",
       "    <tr style=\"text-align: right;\">\n",
       "      <th></th>\n",
       "      <th>opid</th>\n",
       "      <th>operator</th>\n",
       "      <th>atype</th>\n",
       "      <th>remarks</th>\n",
       "      <th>phase_of_flt</th>\n",
       "      <th>ac_mass</th>\n",
       "      <th>num_engs</th>\n",
       "      <th>date</th>\n",
       "      <th>time_of_day</th>\n",
       "      <th>state</th>\n",
       "      <th>height</th>\n",
       "      <th>speed</th>\n",
       "      <th>effect</th>\n",
       "      <th>sky</th>\n",
       "      <th>species</th>\n",
       "      <th>birds_seen</th>\n",
       "      <th>birds_struck</th>\n",
       "    </tr>\n",
       "  </thead>\n",
       "  <tbody>\n",
       "    <tr>\n",
       "      <th>8492</th>\n",
       "      <td>ARY</td>\n",
       "      <td>ARGOSY AIRWAYS</td>\n",
       "      <td>PA-31 NAVAJO</td>\n",
       "      <td>FLT 546 HAD NO DAMAGE. # OF BIRDS HIT NOT REPTD.</td>\n",
       "      <td>Taxi</td>\n",
       "      <td>2.0</td>\n",
       "      <td>2.0</td>\n",
       "      <td>12/18/1992 0:00:00</td>\n",
       "      <td>Night</td>\n",
       "      <td>CA</td>\n",
       "      <td>0.0</td>\n",
       "      <td>NaN</td>\n",
       "      <td>NaN</td>\n",
       "      <td>No Cloud</td>\n",
       "      <td>UNKNOWN BIRD - SMALL</td>\n",
       "      <td>NaN</td>\n",
       "      <td>1</td>\n",
       "    </tr>\n",
       "    <tr>\n",
       "      <th>692</th>\n",
       "      <td>UAL</td>\n",
       "      <td>UNITED AIRLINES</td>\n",
       "      <td>B-727</td>\n",
       "      <td>FLT 663 HAD NO DAMAGAE.</td>\n",
       "      <td>Approach</td>\n",
       "      <td>4.0</td>\n",
       "      <td>3.0</td>\n",
       "      <td>10/18/1990 0:00:00</td>\n",
       "      <td>Night</td>\n",
       "      <td>MN</td>\n",
       "      <td>2500.0</td>\n",
       "      <td>170.0</td>\n",
       "      <td>NaN</td>\n",
       "      <td>Some Cloud</td>\n",
       "      <td>UNKNOWN BIRD - MEDIUM</td>\n",
       "      <td>NaN</td>\n",
       "      <td>1</td>\n",
       "    </tr>\n",
       "  </tbody>\n",
       "</table>\n",
       "</div>"
      ],
      "text/plain": [
       "     opid         operator         atype  \\\n",
       "8492  ARY   ARGOSY AIRWAYS  PA-31 NAVAJO   \n",
       "692   UAL  UNITED AIRLINES         B-727   \n",
       "\n",
       "                                               remarks phase_of_flt  ac_mass  \\\n",
       "8492  FLT 546 HAD NO DAMAGE. # OF BIRDS HIT NOT REPTD.         Taxi      2.0   \n",
       "692                            FLT 663 HAD NO DAMAGAE.     Approach      4.0   \n",
       "\n",
       "      num_engs                date time_of_day state  height  speed effect  \\\n",
       "8492       2.0  12/18/1992 0:00:00       Night    CA     0.0    NaN    NaN   \n",
       "692        3.0  10/18/1990 0:00:00       Night    MN  2500.0  170.0    NaN   \n",
       "\n",
       "             sky                species birds_seen birds_struck  \n",
       "8492    No Cloud   UNKNOWN BIRD - SMALL        NaN            1  \n",
       "692   Some Cloud  UNKNOWN BIRD - MEDIUM        NaN            1  "
      ]
     },
     "execution_count": 16,
     "metadata": {},
     "output_type": "execute_result"
    }
   ],
   "source": [
    "df.loc[df[\"effect\"].isnull()].sample(2)"
   ]
  },
  {
   "cell_type": "code",
   "execution_count": 17,
   "id": "d02767f4",
   "metadata": {
    "ExecuteTime": {
     "end_time": "2022-08-27T21:57:32.722244Z",
     "start_time": "2022-08-27T21:57:32.692378Z"
    }
   },
   "outputs": [
    {
     "data": {
      "text/html": [
       "<div>\n",
       "<style scoped>\n",
       "    .dataframe tbody tr th:only-of-type {\n",
       "        vertical-align: middle;\n",
       "    }\n",
       "\n",
       "    .dataframe tbody tr th {\n",
       "        vertical-align: top;\n",
       "    }\n",
       "\n",
       "    .dataframe thead th {\n",
       "        text-align: right;\n",
       "    }\n",
       "</style>\n",
       "<table border=\"1\" class=\"dataframe\">\n",
       "  <thead>\n",
       "    <tr style=\"text-align: right;\">\n",
       "      <th></th>\n",
       "      <th>opid</th>\n",
       "      <th>operator</th>\n",
       "      <th>atype</th>\n",
       "      <th>remarks</th>\n",
       "      <th>phase_of_flt</th>\n",
       "      <th>ac_mass</th>\n",
       "      <th>num_engs</th>\n",
       "      <th>date</th>\n",
       "      <th>time_of_day</th>\n",
       "      <th>state</th>\n",
       "      <th>height</th>\n",
       "      <th>speed</th>\n",
       "      <th>effect</th>\n",
       "      <th>sky</th>\n",
       "      <th>species</th>\n",
       "      <th>birds_seen</th>\n",
       "      <th>birds_struck</th>\n",
       "    </tr>\n",
       "  </thead>\n",
       "  <tbody>\n",
       "    <tr>\n",
       "      <th>16552</th>\n",
       "      <td>BUS</td>\n",
       "      <td>BUSINESS</td>\n",
       "      <td>PA-32</td>\n",
       "      <td>STRUCK AT WING ROOT ON REINFORCED SURFACE. DAM...</td>\n",
       "      <td>En Route</td>\n",
       "      <td>1.0</td>\n",
       "      <td>1.0</td>\n",
       "      <td>9/27/1997 0:00:00</td>\n",
       "      <td>Night</td>\n",
       "      <td>KY</td>\n",
       "      <td>5500.0</td>\n",
       "      <td>NaN</td>\n",
       "      <td>None</td>\n",
       "      <td>No Cloud</td>\n",
       "      <td>DUCKS, GEESE, SWANS</td>\n",
       "      <td>NaN</td>\n",
       "      <td>1</td>\n",
       "    </tr>\n",
       "    <tr>\n",
       "      <th>14557</th>\n",
       "      <td>UAL</td>\n",
       "      <td>UNITED AIRLINES</td>\n",
       "      <td>B-757-200</td>\n",
       "      <td>NO DAMAGE, MESSY.</td>\n",
       "      <td>Approach</td>\n",
       "      <td>4.0</td>\n",
       "      <td>2.0</td>\n",
       "      <td>10/29/1995 0:00:00</td>\n",
       "      <td>Night</td>\n",
       "      <td>DC</td>\n",
       "      <td>1700.0</td>\n",
       "      <td>170.0</td>\n",
       "      <td>None</td>\n",
       "      <td>No Cloud</td>\n",
       "      <td>UNKNOWN BIRD</td>\n",
       "      <td>NaN</td>\n",
       "      <td>1</td>\n",
       "    </tr>\n",
       "  </tbody>\n",
       "</table>\n",
       "</div>"
      ],
      "text/plain": [
       "      opid         operator      atype  \\\n",
       "16552  BUS         BUSINESS      PA-32   \n",
       "14557  UAL  UNITED AIRLINES  B-757-200   \n",
       "\n",
       "                                                 remarks phase_of_flt  \\\n",
       "16552  STRUCK AT WING ROOT ON REINFORCED SURFACE. DAM...     En Route   \n",
       "14557                                  NO DAMAGE, MESSY.     Approach   \n",
       "\n",
       "       ac_mass  num_engs                date time_of_day state  height  speed  \\\n",
       "16552      1.0       1.0   9/27/1997 0:00:00       Night    KY  5500.0    NaN   \n",
       "14557      4.0       2.0  10/29/1995 0:00:00       Night    DC  1700.0  170.0   \n",
       "\n",
       "      effect       sky              species birds_seen birds_struck  \n",
       "16552   None  No Cloud  DUCKS, GEESE, SWANS        NaN            1  \n",
       "14557   None  No Cloud         UNKNOWN BIRD        NaN            1  "
      ]
     },
     "execution_count": 17,
     "metadata": {},
     "output_type": "execute_result"
    }
   ],
   "source": [
    "df.loc[df[\"effect\"]==\"None\"].sample(2)"
   ]
  },
  {
   "cell_type": "markdown",
   "id": "8e768fd8",
   "metadata": {},
   "source": [
    "* <span class=\"mark\">NaNs looks like None class bu not clear and ambgious so I decided to drop</span>"
   ]
  },
  {
   "cell_type": "code",
   "execution_count": 18,
   "id": "8fee6083",
   "metadata": {
    "ExecuteTime": {
     "end_time": "2022-08-27T21:57:32.737109Z",
     "start_time": "2022-08-27T21:57:32.723216Z"
    }
   },
   "outputs": [],
   "source": [
    "df = df.dropna(subset=[\"effect\"]).reset_index(drop=True)"
   ]
  },
  {
   "cell_type": "code",
   "execution_count": 31,
   "id": "dd687bdc",
   "metadata": {
    "ExecuteTime": {
     "end_time": "2022-08-27T22:07:44.020344Z",
     "start_time": "2022-08-27T22:07:43.812821Z"
    }
   },
   "outputs": [
    {
     "name": "stdout",
     "output_type": "stream",
     "text": [
      "opid             0.00\n",
      "operator         0.00\n",
      "atype            0.00\n",
      "remarks         18.27\n",
      "phase_of_flt     3.52\n",
      "ac_mass          2.06\n",
      "num_engs         2.17\n",
      "date             0.00\n",
      "time_of_day      3.31\n",
      "state            4.36\n",
      "height          10.51\n",
      "speed           29.09\n",
      "effect           0.00\n",
      "sky             11.40\n",
      "species          0.00\n",
      "birds_seen      70.82\n",
      "birds_struck     0.26\n",
      "dtype: float64\n"
     ]
    },
    {
     "data": {
      "text/html": [
       "<div>                            <div id=\"a3d3d634-0b87-4b63-92bc-5da3a66892ac\" class=\"plotly-graph-div\" style=\"height:525px; width:100%;\"></div>            <script type=\"text/javascript\">                require([\"plotly\"], function(Plotly) {                    window.PLOTLYENV=window.PLOTLYENV || {};\n",
       "                    window.PLOTLYENV.BASE_URL='https://plot.ly';                                    if (document.getElementById(\"a3d3d634-0b87-4b63-92bc-5da3a66892ac\")) {                    Plotly.newPlot(                        \"a3d3d634-0b87-4b63-92bc-5da3a66892ac\",                        [{\"marker\":{\"color\":\"rgba(255, 153, 51, 0.6)\",\"line\":{\"color\":\"rgba(255, 153, 51, 1.0)\",\"width\":1}},\"name\":\"None\",\"orientation\":\"v\",\"text\":\"\",\"x\":[\"opid\",\"operator\",\"atype\",\"remarks\",\"phase_of_flt\",\"ac_mass\",\"num_engs\",\"date\",\"time_of_day\",\"state\",\"height\",\"speed\",\"effect\",\"sky\",\"species\",\"birds_seen\",\"birds_struck\"],\"y\":[0.0,0.0,0.0,18.27,3.52,2.06,2.17,0.0,3.31,4.36,10.51,29.09,0.0,11.4,0.0,70.82,0.26],\"type\":\"bar\"}],                        {\"legend\":{\"bgcolor\":\"#F5F6F9\",\"font\":{\"color\":\"#4D5663\"}},\"paper_bgcolor\":\"#F5F6F9\",\"plot_bgcolor\":\"#F5F6F9\",\"template\":{\"data\":{\"barpolar\":[{\"marker\":{\"line\":{\"color\":\"#E5ECF6\",\"width\":0.5},\"pattern\":{\"fillmode\":\"overlay\",\"size\":10,\"solidity\":0.2}},\"type\":\"barpolar\"}],\"bar\":[{\"error_x\":{\"color\":\"#2a3f5f\"},\"error_y\":{\"color\":\"#2a3f5f\"},\"marker\":{\"line\":{\"color\":\"#E5ECF6\",\"width\":0.5},\"pattern\":{\"fillmode\":\"overlay\",\"size\":10,\"solidity\":0.2}},\"type\":\"bar\"}],\"carpet\":[{\"aaxis\":{\"endlinecolor\":\"#2a3f5f\",\"gridcolor\":\"white\",\"linecolor\":\"white\",\"minorgridcolor\":\"white\",\"startlinecolor\":\"#2a3f5f\"},\"baxis\":{\"endlinecolor\":\"#2a3f5f\",\"gridcolor\":\"white\",\"linecolor\":\"white\",\"minorgridcolor\":\"white\",\"startlinecolor\":\"#2a3f5f\"},\"type\":\"carpet\"}],\"choropleth\":[{\"colorbar\":{\"outlinewidth\":0,\"ticks\":\"\"},\"type\":\"choropleth\"}],\"contourcarpet\":[{\"colorbar\":{\"outlinewidth\":0,\"ticks\":\"\"},\"type\":\"contourcarpet\"}],\"contour\":[{\"colorbar\":{\"outlinewidth\":0,\"ticks\":\"\"},\"colorscale\":[[0.0,\"#0d0887\"],[0.1111111111111111,\"#46039f\"],[0.2222222222222222,\"#7201a8\"],[0.3333333333333333,\"#9c179e\"],[0.4444444444444444,\"#bd3786\"],[0.5555555555555556,\"#d8576b\"],[0.6666666666666666,\"#ed7953\"],[0.7777777777777778,\"#fb9f3a\"],[0.8888888888888888,\"#fdca26\"],[1.0,\"#f0f921\"]],\"type\":\"contour\"}],\"heatmapgl\":[{\"colorbar\":{\"outlinewidth\":0,\"ticks\":\"\"},\"colorscale\":[[0.0,\"#0d0887\"],[0.1111111111111111,\"#46039f\"],[0.2222222222222222,\"#7201a8\"],[0.3333333333333333,\"#9c179e\"],[0.4444444444444444,\"#bd3786\"],[0.5555555555555556,\"#d8576b\"],[0.6666666666666666,\"#ed7953\"],[0.7777777777777778,\"#fb9f3a\"],[0.8888888888888888,\"#fdca26\"],[1.0,\"#f0f921\"]],\"type\":\"heatmapgl\"}],\"heatmap\":[{\"colorbar\":{\"outlinewidth\":0,\"ticks\":\"\"},\"colorscale\":[[0.0,\"#0d0887\"],[0.1111111111111111,\"#46039f\"],[0.2222222222222222,\"#7201a8\"],[0.3333333333333333,\"#9c179e\"],[0.4444444444444444,\"#bd3786\"],[0.5555555555555556,\"#d8576b\"],[0.6666666666666666,\"#ed7953\"],[0.7777777777777778,\"#fb9f3a\"],[0.8888888888888888,\"#fdca26\"],[1.0,\"#f0f921\"]],\"type\":\"heatmap\"}],\"histogram2dcontour\":[{\"colorbar\":{\"outlinewidth\":0,\"ticks\":\"\"},\"colorscale\":[[0.0,\"#0d0887\"],[0.1111111111111111,\"#46039f\"],[0.2222222222222222,\"#7201a8\"],[0.3333333333333333,\"#9c179e\"],[0.4444444444444444,\"#bd3786\"],[0.5555555555555556,\"#d8576b\"],[0.6666666666666666,\"#ed7953\"],[0.7777777777777778,\"#fb9f3a\"],[0.8888888888888888,\"#fdca26\"],[1.0,\"#f0f921\"]],\"type\":\"histogram2dcontour\"}],\"histogram2d\":[{\"colorbar\":{\"outlinewidth\":0,\"ticks\":\"\"},\"colorscale\":[[0.0,\"#0d0887\"],[0.1111111111111111,\"#46039f\"],[0.2222222222222222,\"#7201a8\"],[0.3333333333333333,\"#9c179e\"],[0.4444444444444444,\"#bd3786\"],[0.5555555555555556,\"#d8576b\"],[0.6666666666666666,\"#ed7953\"],[0.7777777777777778,\"#fb9f3a\"],[0.8888888888888888,\"#fdca26\"],[1.0,\"#f0f921\"]],\"type\":\"histogram2d\"}],\"histogram\":[{\"marker\":{\"pattern\":{\"fillmode\":\"overlay\",\"size\":10,\"solidity\":0.2}},\"type\":\"histogram\"}],\"mesh3d\":[{\"colorbar\":{\"outlinewidth\":0,\"ticks\":\"\"},\"type\":\"mesh3d\"}],\"parcoords\":[{\"line\":{\"colorbar\":{\"outlinewidth\":0,\"ticks\":\"\"}},\"type\":\"parcoords\"}],\"pie\":[{\"automargin\":true,\"type\":\"pie\"}],\"scatter3d\":[{\"line\":{\"colorbar\":{\"outlinewidth\":0,\"ticks\":\"\"}},\"marker\":{\"colorbar\":{\"outlinewidth\":0,\"ticks\":\"\"}},\"type\":\"scatter3d\"}],\"scattercarpet\":[{\"marker\":{\"colorbar\":{\"outlinewidth\":0,\"ticks\":\"\"}},\"type\":\"scattercarpet\"}],\"scattergeo\":[{\"marker\":{\"colorbar\":{\"outlinewidth\":0,\"ticks\":\"\"}},\"type\":\"scattergeo\"}],\"scattergl\":[{\"marker\":{\"colorbar\":{\"outlinewidth\":0,\"ticks\":\"\"}},\"type\":\"scattergl\"}],\"scattermapbox\":[{\"marker\":{\"colorbar\":{\"outlinewidth\":0,\"ticks\":\"\"}},\"type\":\"scattermapbox\"}],\"scatterpolargl\":[{\"marker\":{\"colorbar\":{\"outlinewidth\":0,\"ticks\":\"\"}},\"type\":\"scatterpolargl\"}],\"scatterpolar\":[{\"marker\":{\"colorbar\":{\"outlinewidth\":0,\"ticks\":\"\"}},\"type\":\"scatterpolar\"}],\"scatter\":[{\"fillpattern\":{\"fillmode\":\"overlay\",\"size\":10,\"solidity\":0.2},\"type\":\"scatter\"}],\"scatterternary\":[{\"marker\":{\"colorbar\":{\"outlinewidth\":0,\"ticks\":\"\"}},\"type\":\"scatterternary\"}],\"surface\":[{\"colorbar\":{\"outlinewidth\":0,\"ticks\":\"\"},\"colorscale\":[[0.0,\"#0d0887\"],[0.1111111111111111,\"#46039f\"],[0.2222222222222222,\"#7201a8\"],[0.3333333333333333,\"#9c179e\"],[0.4444444444444444,\"#bd3786\"],[0.5555555555555556,\"#d8576b\"],[0.6666666666666666,\"#ed7953\"],[0.7777777777777778,\"#fb9f3a\"],[0.8888888888888888,\"#fdca26\"],[1.0,\"#f0f921\"]],\"type\":\"surface\"}],\"table\":[{\"cells\":{\"fill\":{\"color\":\"#EBF0F8\"},\"line\":{\"color\":\"white\"}},\"header\":{\"fill\":{\"color\":\"#C8D4E3\"},\"line\":{\"color\":\"white\"}},\"type\":\"table\"}]},\"layout\":{\"annotationdefaults\":{\"arrowcolor\":\"#2a3f5f\",\"arrowhead\":0,\"arrowwidth\":1},\"autotypenumbers\":\"strict\",\"coloraxis\":{\"colorbar\":{\"outlinewidth\":0,\"ticks\":\"\"}},\"colorscale\":{\"diverging\":[[0,\"#8e0152\"],[0.1,\"#c51b7d\"],[0.2,\"#de77ae\"],[0.3,\"#f1b6da\"],[0.4,\"#fde0ef\"],[0.5,\"#f7f7f7\"],[0.6,\"#e6f5d0\"],[0.7,\"#b8e186\"],[0.8,\"#7fbc41\"],[0.9,\"#4d9221\"],[1,\"#276419\"]],\"sequential\":[[0.0,\"#0d0887\"],[0.1111111111111111,\"#46039f\"],[0.2222222222222222,\"#7201a8\"],[0.3333333333333333,\"#9c179e\"],[0.4444444444444444,\"#bd3786\"],[0.5555555555555556,\"#d8576b\"],[0.6666666666666666,\"#ed7953\"],[0.7777777777777778,\"#fb9f3a\"],[0.8888888888888888,\"#fdca26\"],[1.0,\"#f0f921\"]],\"sequentialminus\":[[0.0,\"#0d0887\"],[0.1111111111111111,\"#46039f\"],[0.2222222222222222,\"#7201a8\"],[0.3333333333333333,\"#9c179e\"],[0.4444444444444444,\"#bd3786\"],[0.5555555555555556,\"#d8576b\"],[0.6666666666666666,\"#ed7953\"],[0.7777777777777778,\"#fb9f3a\"],[0.8888888888888888,\"#fdca26\"],[1.0,\"#f0f921\"]]},\"colorway\":[\"#636efa\",\"#EF553B\",\"#00cc96\",\"#ab63fa\",\"#FFA15A\",\"#19d3f3\",\"#FF6692\",\"#B6E880\",\"#FF97FF\",\"#FECB52\"],\"font\":{\"color\":\"#2a3f5f\"},\"geo\":{\"bgcolor\":\"white\",\"lakecolor\":\"white\",\"landcolor\":\"#E5ECF6\",\"showlakes\":true,\"showland\":true,\"subunitcolor\":\"white\"},\"hoverlabel\":{\"align\":\"left\"},\"hovermode\":\"closest\",\"mapbox\":{\"style\":\"light\"},\"paper_bgcolor\":\"white\",\"plot_bgcolor\":\"#E5ECF6\",\"polar\":{\"angularaxis\":{\"gridcolor\":\"white\",\"linecolor\":\"white\",\"ticks\":\"\"},\"bgcolor\":\"#E5ECF6\",\"radialaxis\":{\"gridcolor\":\"white\",\"linecolor\":\"white\",\"ticks\":\"\"}},\"scene\":{\"xaxis\":{\"backgroundcolor\":\"#E5ECF6\",\"gridcolor\":\"white\",\"gridwidth\":2,\"linecolor\":\"white\",\"showbackground\":true,\"ticks\":\"\",\"zerolinecolor\":\"white\"},\"yaxis\":{\"backgroundcolor\":\"#E5ECF6\",\"gridcolor\":\"white\",\"gridwidth\":2,\"linecolor\":\"white\",\"showbackground\":true,\"ticks\":\"\",\"zerolinecolor\":\"white\"},\"zaxis\":{\"backgroundcolor\":\"#E5ECF6\",\"gridcolor\":\"white\",\"gridwidth\":2,\"linecolor\":\"white\",\"showbackground\":true,\"ticks\":\"\",\"zerolinecolor\":\"white\"}},\"shapedefaults\":{\"line\":{\"color\":\"#2a3f5f\"}},\"ternary\":{\"aaxis\":{\"gridcolor\":\"white\",\"linecolor\":\"white\",\"ticks\":\"\"},\"baxis\":{\"gridcolor\":\"white\",\"linecolor\":\"white\",\"ticks\":\"\"},\"bgcolor\":\"#E5ECF6\",\"caxis\":{\"gridcolor\":\"white\",\"linecolor\":\"white\",\"ticks\":\"\"}},\"title\":{\"x\":0.05},\"xaxis\":{\"automargin\":true,\"gridcolor\":\"white\",\"linecolor\":\"white\",\"ticks\":\"\",\"title\":{\"standoff\":15},\"zerolinecolor\":\"white\",\"zerolinewidth\":2},\"yaxis\":{\"automargin\":true,\"gridcolor\":\"white\",\"linecolor\":\"white\",\"ticks\":\"\",\"title\":{\"standoff\":15},\"zerolinecolor\":\"white\",\"zerolinewidth\":2}}},\"title\":{\"font\":{\"color\":\"#4D5663\"}},\"xaxis\":{\"gridcolor\":\"#E1E5ED\",\"showgrid\":true,\"tickfont\":{\"color\":\"#4D5663\"},\"title\":{\"font\":{\"color\":\"#4D5663\"},\"text\":\"\"},\"zerolinecolor\":\"#E1E5ED\"},\"yaxis\":{\"gridcolor\":\"#E1E5ED\",\"showgrid\":true,\"tickfont\":{\"color\":\"#4D5663\"},\"title\":{\"font\":{\"color\":\"#4D5663\"},\"text\":\"\"},\"zerolinecolor\":\"#E1E5ED\"}},                        {\"showLink\": true, \"linkText\": \"Export to plot.ly\", \"plotlyServerURL\": \"https://plot.ly\", \"responsive\": true}                    ).then(function(){\n",
       "                            \n",
       "var gd = document.getElementById('a3d3d634-0b87-4b63-92bc-5da3a66892ac');\n",
       "var x = new MutationObserver(function (mutations, observer) {{\n",
       "        var display = window.getComputedStyle(gd).display;\n",
       "        if (!display || display === 'none') {{\n",
       "            console.log([gd, 'removed!']);\n",
       "            Plotly.purge(gd);\n",
       "            observer.disconnect();\n",
       "        }}\n",
       "}});\n",
       "\n",
       "// Listen for the removal of the full notebook cells\n",
       "var notebookContainer = gd.closest('#notebook-container');\n",
       "if (notebookContainer) {{\n",
       "    x.observe(notebookContainer, {childList: true});\n",
       "}}\n",
       "\n",
       "// Listen for the clearing of the current output cell\n",
       "var outputEl = gd.closest('.output');\n",
       "if (outputEl) {{\n",
       "    x.observe(outputEl, {childList: true});\n",
       "}}\n",
       "\n",
       "                        })                };                });            </script>        </div>"
      ]
     },
     "metadata": {},
     "output_type": "display_data"
    }
   ],
   "source": [
    "missing_perct(df,print_it=True).iplot(\"bar\")"
   ]
  },
  {
   "cell_type": "markdown",
   "id": "748375f1",
   "metadata": {},
   "source": [
    "### phase_of_flt"
   ]
  },
  {
   "cell_type": "code",
   "execution_count": 86,
   "id": "127ee068",
   "metadata": {
    "ExecuteTime": {
     "end_time": "2022-08-27T22:51:47.707258Z",
     "start_time": "2022-08-27T22:51:47.558633Z"
    }
   },
   "outputs": [
    {
     "data": {
      "text/html": [
       "<div>\n",
       "<style scoped>\n",
       "    .dataframe tbody tr th:only-of-type {\n",
       "        vertical-align: middle;\n",
       "    }\n",
       "\n",
       "    .dataframe tbody tr th {\n",
       "        vertical-align: top;\n",
       "    }\n",
       "\n",
       "    .dataframe thead tr th {\n",
       "        text-align: left;\n",
       "    }\n",
       "\n",
       "    .dataframe thead tr:last-of-type th {\n",
       "        text-align: right;\n",
       "    }\n",
       "</style>\n",
       "<table border=\"1\" class=\"dataframe\">\n",
       "  <thead>\n",
       "    <tr>\n",
       "      <th></th>\n",
       "      <th></th>\n",
       "      <th colspan=\"3\" halign=\"left\">height</th>\n",
       "      <th colspan=\"3\" halign=\"left\">speed</th>\n",
       "    </tr>\n",
       "    <tr>\n",
       "      <th></th>\n",
       "      <th></th>\n",
       "      <th>median</th>\n",
       "      <th>mean</th>\n",
       "      <th>count</th>\n",
       "      <th>median</th>\n",
       "      <th>mean</th>\n",
       "      <th>count</th>\n",
       "    </tr>\n",
       "    <tr>\n",
       "      <th>phase_of_flt</th>\n",
       "      <th>atype</th>\n",
       "      <th></th>\n",
       "      <th></th>\n",
       "      <th></th>\n",
       "      <th></th>\n",
       "      <th></th>\n",
       "      <th></th>\n",
       "    </tr>\n",
       "  </thead>\n",
       "  <tbody>\n",
       "    <tr>\n",
       "      <th rowspan=\"5\" valign=\"top\">Approach</th>\n",
       "      <th>A-300</th>\n",
       "      <td>1000.0</td>\n",
       "      <td>1783.857143</td>\n",
       "      <td>35</td>\n",
       "      <td>150.0</td>\n",
       "      <td>166.064516</td>\n",
       "      <td>31</td>\n",
       "    </tr>\n",
       "    <tr>\n",
       "      <th>A-310</th>\n",
       "      <td>1000.0</td>\n",
       "      <td>1506.666667</td>\n",
       "      <td>3</td>\n",
       "      <td>170.0</td>\n",
       "      <td>168.333333</td>\n",
       "      <td>3</td>\n",
       "    </tr>\n",
       "    <tr>\n",
       "      <th>A-320</th>\n",
       "      <td>500.0</td>\n",
       "      <td>923.636364</td>\n",
       "      <td>33</td>\n",
       "      <td>140.0</td>\n",
       "      <td>147.464286</td>\n",
       "      <td>28</td>\n",
       "    </tr>\n",
       "    <tr>\n",
       "      <th>AEROS SN601</th>\n",
       "      <td>600.0</td>\n",
       "      <td>600.000000</td>\n",
       "      <td>1</td>\n",
       "      <td>130.0</td>\n",
       "      <td>130.000000</td>\n",
       "      <td>1</td>\n",
       "    </tr>\n",
       "    <tr>\n",
       "      <th>AEROSTAR 600</th>\n",
       "      <td>10.0</td>\n",
       "      <td>10.000000</td>\n",
       "      <td>1</td>\n",
       "      <td>90.0</td>\n",
       "      <td>90.000000</td>\n",
       "      <td>1</td>\n",
       "    </tr>\n",
       "    <tr>\n",
       "      <th>...</th>\n",
       "      <th>...</th>\n",
       "      <td>...</td>\n",
       "      <td>...</td>\n",
       "      <td>...</td>\n",
       "      <td>...</td>\n",
       "      <td>...</td>\n",
       "      <td>...</td>\n",
       "    </tr>\n",
       "    <tr>\n",
       "      <th rowspan=\"5\" valign=\"top\">Taxi</th>\n",
       "      <th>PA-34 SENECA</th>\n",
       "      <td>0.0</td>\n",
       "      <td>0.000000</td>\n",
       "      <td>1</td>\n",
       "      <td>NaN</td>\n",
       "      <td>NaN</td>\n",
       "      <td>0</td>\n",
       "    </tr>\n",
       "    <tr>\n",
       "      <th>PA-60 600</th>\n",
       "      <td>0.0</td>\n",
       "      <td>0.000000</td>\n",
       "      <td>1</td>\n",
       "      <td>NaN</td>\n",
       "      <td>NaN</td>\n",
       "      <td>0</td>\n",
       "    </tr>\n",
       "    <tr>\n",
       "      <th>SAAB-340</th>\n",
       "      <td>0.0</td>\n",
       "      <td>0.000000</td>\n",
       "      <td>1</td>\n",
       "      <td>NaN</td>\n",
       "      <td>NaN</td>\n",
       "      <td>0</td>\n",
       "    </tr>\n",
       "    <tr>\n",
       "      <th>SIKORSKY S-76</th>\n",
       "      <td>0.0</td>\n",
       "      <td>0.000000</td>\n",
       "      <td>1</td>\n",
       "      <td>NaN</td>\n",
       "      <td>NaN</td>\n",
       "      <td>0</td>\n",
       "    </tr>\n",
       "    <tr>\n",
       "      <th>UNKNOWN</th>\n",
       "      <td>0.0</td>\n",
       "      <td>0.000000</td>\n",
       "      <td>8</td>\n",
       "      <td>NaN</td>\n",
       "      <td>NaN</td>\n",
       "      <td>0</td>\n",
       "    </tr>\n",
       "  </tbody>\n",
       "</table>\n",
       "<p>1037 rows × 6 columns</p>\n",
       "</div>"
      ],
      "text/plain": [
       "                            height                     speed                  \n",
       "                            median         mean count median        mean count\n",
       "phase_of_flt atype                                                            \n",
       "Approach     A-300          1000.0  1783.857143    35  150.0  166.064516    31\n",
       "             A-310          1000.0  1506.666667     3  170.0  168.333333     3\n",
       "             A-320           500.0   923.636364    33  140.0  147.464286    28\n",
       "             AEROS SN601     600.0   600.000000     1  130.0  130.000000     1\n",
       "             AEROSTAR 600     10.0    10.000000     1   90.0   90.000000     1\n",
       "...                            ...          ...   ...    ...         ...   ...\n",
       "Taxi         PA-34 SENECA      0.0     0.000000     1    NaN         NaN     0\n",
       "             PA-60 600         0.0     0.000000     1    NaN         NaN     0\n",
       "             SAAB-340          0.0     0.000000     1    NaN         NaN     0\n",
       "             SIKORSKY S-76     0.0     0.000000     1    NaN         NaN     0\n",
       "             UNKNOWN           0.0     0.000000     8    NaN         NaN     0\n",
       "\n",
       "[1037 rows x 6 columns]"
      ]
     },
     "execution_count": 86,
     "metadata": {},
     "output_type": "execute_result"
    }
   ],
   "source": [
    "df.groupby([\"phase_of_flt\",\"atype\"]).agg({\"height\" : [\"median\",\"mean\",\"count\"],\"speed\":[\"median\",\"mean\",\"count\"]})"
   ]
  },
  {
   "cell_type": "code",
   "execution_count": 52,
   "id": "43aa5aae",
   "metadata": {
    "ExecuteTime": {
     "end_time": "2022-08-27T22:28:46.131191Z",
     "start_time": "2022-08-27T22:28:46.116230Z"
    }
   },
   "outputs": [
    {
     "data": {
      "text/plain": [
       "Int64Index([   11,    66,    91,    95,   118,   160,   227,   350,   362,\n",
       "              380,\n",
       "            ...\n",
       "            13453, 13459, 13497, 13502, 13512, 13530, 13532, 13566, 13572,\n",
       "            13579],\n",
       "           dtype='int64', length=478)"
      ]
     },
     "execution_count": 52,
     "metadata": {},
     "output_type": "execute_result"
    }
   ],
   "source": [
    "temp = df.loc[df[\"phase_of_flt\"].isnull(),\"phase_of_flt\"]\n",
    "temp.index"
   ]
  },
  {
   "cell_type": "code",
   "execution_count": 81,
   "id": "f15712b2",
   "metadata": {
    "ExecuteTime": {
     "end_time": "2022-08-27T22:47:32.882178Z",
     "start_time": "2022-08-27T22:47:32.576720Z"
    }
   },
   "outputs": [
    {
     "name": "stdout",
     "output_type": "stream",
     "text": [
      "nan\n",
      "nan\n",
      "nan\n",
      "nan\n",
      "nan\n",
      "nan\n"
     ]
    }
   ],
   "source": [
    "for idx in temp.index:\n",
    "    if df.loc[idx,\"height\"] in range(50,500) and df.loc[idx,\"speed\"] in range(85,150) :\n",
    "        print(df.loc[idx,\"phase_of_flt\"])\n",
    "    if df.loc[idx,\"height\"] in range(500,1000) and df.loc[idx,\"speed\"] in range(125,200) :\n",
    "        print(df.loc[idx,\"phase_of_flt\"])"
   ]
  },
  {
   "cell_type": "code",
   "execution_count": null,
   "id": "a6451f8f",
   "metadata": {},
   "outputs": [],
   "source": []
  },
  {
   "cell_type": "code",
   "execution_count": 35,
   "id": "2caeb802",
   "metadata": {
    "ExecuteTime": {
     "end_time": "2022-08-27T22:12:32.739649Z",
     "start_time": "2022-08-27T22:12:32.704031Z"
    },
    "scrolled": true
   },
   "outputs": [
    {
     "data": {
      "text/plain": [
       "NaN        449\n",
       "0.0          4\n",
       "10.0         3\n",
       "20.0         3\n",
       "100.0        3\n",
       "25.0         2\n",
       "500.0        2\n",
       "1000.0       2\n",
       "50.0         1\n",
       "300.0        1\n",
       "550.0        1\n",
       "5800.0       1\n",
       "1500.0       1\n",
       "800.0        1\n",
       "10000.0      1\n",
       "1600.0       1\n",
       "30.0         1\n",
       "400.0        1\n",
       "Name: height, dtype: int64"
      ]
     },
     "execution_count": 35,
     "metadata": {},
     "output_type": "execute_result"
    }
   ],
   "source": [
    "df.loc[df[\"phase_of_flt\"].isnull(),\"height\"].value_counts(dropna=False)"
   ]
  },
  {
   "cell_type": "code",
   "execution_count": 41,
   "id": "94964eb4",
   "metadata": {
    "ExecuteTime": {
     "end_time": "2022-08-27T22:17:47.894604Z",
     "start_time": "2022-08-27T22:17:47.849919Z"
    }
   },
   "outputs": [
    {
     "data": {
      "text/plain": [
       "NaN      444\n",
       "140.0      6\n",
       "130.0      4\n",
       "120.0      4\n",
       "150.0      3\n",
       "60.0       2\n",
       "80.0       2\n",
       "280.0      1\n",
       "145.0      1\n",
       "200.0      1\n",
       "122.0      1\n",
       "195.0      1\n",
       "215.0      1\n",
       "105.0      1\n",
       "115.0      1\n",
       "155.0      1\n",
       "170.0      1\n",
       "138.0      1\n",
       "240.0      1\n",
       "153.0      1\n",
       "Name: speed, dtype: int64"
      ]
     },
     "execution_count": 41,
     "metadata": {},
     "output_type": "execute_result"
    }
   ],
   "source": [
    "df.loc[df[\"phase_of_flt\"].isnull(),\"speed\"].value_counts(dropna=False)"
   ]
  },
  {
   "cell_type": "code",
   "execution_count": null,
   "id": "58d9c383",
   "metadata": {
    "ExecuteTime": {
     "end_time": "2022-08-27T22:16:28.912297Z",
     "start_time": "2022-08-27T22:16:28.848000Z"
    }
   },
   "outputs": [],
   "source": []
  },
  {
   "cell_type": "code",
   "execution_count": null,
   "id": "d0daea68",
   "metadata": {},
   "outputs": [],
   "source": []
  }
 ],
 "metadata": {
  "hide_input": false,
  "kernelspec": {
   "display_name": "Python 3 (ipykernel)",
   "language": "python",
   "name": "python3"
  },
  "language_info": {
   "codemirror_mode": {
    "name": "ipython",
    "version": 3
   },
   "file_extension": ".py",
   "mimetype": "text/x-python",
   "name": "python",
   "nbconvert_exporter": "python",
   "pygments_lexer": "ipython3",
   "version": "3.9.12"
  },
  "toc": {
   "base_numbering": 1,
   "nav_menu": {},
   "number_sections": true,
   "sideBar": true,
   "skip_h1_title": false,
   "title_cell": "Table of Contents",
   "title_sidebar": "Contents",
   "toc_cell": false,
   "toc_position": {
    "height": "calc(100% - 180px)",
    "left": "10px",
    "top": "150px",
    "width": "375.797px"
   },
   "toc_section_display": true,
   "toc_window_display": true
  },
  "varInspector": {
   "cols": {
    "lenName": 16,
    "lenType": 16,
    "lenVar": 40
   },
   "kernels_config": {
    "python": {
     "delete_cmd_postfix": "",
     "delete_cmd_prefix": "del ",
     "library": "var_list.py",
     "varRefreshCmd": "print(var_dic_list())"
    },
    "r": {
     "delete_cmd_postfix": ") ",
     "delete_cmd_prefix": "rm(",
     "library": "var_list.r",
     "varRefreshCmd": "cat(var_dic_list()) "
    }
   },
   "types_to_exclude": [
    "module",
    "function",
    "builtin_function_or_method",
    "instance",
    "_Feature"
   ],
   "window_display": false
  }
 },
 "nbformat": 4,
 "nbformat_minor": 5
}
